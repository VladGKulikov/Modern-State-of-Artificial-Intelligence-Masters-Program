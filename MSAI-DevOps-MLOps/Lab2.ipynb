{
  "nbformat": 4,
  "nbformat_minor": 0,
  "metadata": {
    "colab": {
      "provenance": []
    },
    "kernelspec": {
      "name": "python3",
      "display_name": "Python 3"
    },
    "language_info": {
      "name": "python"
    }
  },
  "cells": [
    {
      "cell_type": "code",
      "execution_count": 1,
      "metadata": {
        "id": "4NBeE7T1-OXV"
      },
      "outputs": [],
      "source": [
        "!pip install bs4"
      ]
    },
    {
      "cell_type": "code",
      "source": [
        "!pip install nltk"
      ],
      "metadata": {
        "id": "g8KahNBjVVs1"
      },
      "execution_count": null,
      "outputs": []
    },
    {
      "cell_type": "code",
      "source": [
        "import nltk.tokenize\n",
        "from nltk.tokenize import WordPunctTokenizer\n",
        "import pandas as pd\n",
        "import requests\n",
        "from bs4 import BeautifulSoup\n",
        "\n",
        "resp = requests.get('https://www.bbc.com/news/science-environment-64815782')\n",
        "soup = BeautifulSoup(resp.content, 'html.parser')"
      ],
      "metadata": {
        "id": "eLy3ZS_L-Xxi"
      },
      "execution_count": null,
      "outputs": []
    },
    {
      "cell_type": "code",
      "source": [
        "tokenizer = WordPunctTokenizer()\n",
        "\n",
        "lst = ''\n",
        "\n",
        "for div in soup.find_all('div', attrs={'data-component': 'text-block'}):\n",
        "\tlst += div.text\n",
        "\n",
        "tokens_list = tokenizer.tokenize(lst)\n",
        "\n",
        "tokens = []\n",
        "for i in range(len(tokens_list)):\n",
        "    data={}\n",
        "    data[f'{i}'] = tokens_list[i]        \n",
        "    tokens.append(data)"
      ],
      "metadata": {
        "id": "VkNdWZnn-S-7"
      },
      "execution_count": null,
      "outputs": []
    },
    {
      "cell_type": "code",
      "source": [
        "print(tokens)"
      ],
      "metadata": {
        "id": "zHdmM5qwCo5q"
      },
      "execution_count": null,
      "outputs": []
    },
    {
      "cell_type": "code",
      "source": [
        "!pip install pymongo"
      ],
      "metadata": {
        "id": "uznXrk2cJGEm"
      },
      "execution_count": null,
      "outputs": []
    },
    {
      "cell_type": "code",
      "source": [
        "import pymongo"
      ],
      "metadata": {
        "id": "tDolTEV-JH5C"
      },
      "execution_count": null,
      "outputs": []
    },
    {
      "cell_type": "code",
      "source": [
        "client = pymongo.MongoClient('backend:27017')\n",
        "db = client['database']\n",
        "col = db['collection']"
      ],
      "metadata": {
        "id": "CzpW0byHJJsz"
      },
      "execution_count": null,
      "outputs": []
    },
    {
      "cell_type": "code",
      "source": [
        "x = col.insert_many(tokens)"
      ],
      "metadata": {
        "id": "1KMjW8_3Cos8"
      },
      "execution_count": null,
      "outputs": []
    },
    {
      "cell_type": "code",
      "source": [
        "print(x.inserted_ids)"
      ],
      "metadata": {
        "id": "RORGnQQBIRxz"
      },
      "execution_count": null,
      "outputs": []
    }
  ]
}