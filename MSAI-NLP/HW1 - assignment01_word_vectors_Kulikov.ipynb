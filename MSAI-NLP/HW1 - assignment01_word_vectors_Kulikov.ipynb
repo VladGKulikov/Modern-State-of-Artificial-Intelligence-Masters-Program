{
  "cells": [
    {
      "cell_type": "markdown",
      "metadata": {
        "id": "v5CEpaSkGXi1"
      },
      "source": [
        "## Assignment 01. Simple text processing."
      ]
    },
    {
      "cell_type": "code",
      "execution_count": 1,
      "metadata": {
        "id": "wV46szl2GXi3"
      },
      "outputs": [],
      "source": [
        "import numpy as np\n",
        "import matplotlib.pyplot as plt\n",
        "%matplotlib inline\n",
        "import pandas as pd\n",
        "from IPython import display\n",
        "from sklearn.preprocessing import MinMaxScaler"
      ]
    },
    {
      "cell_type": "markdown",
      "metadata": {
        "id": "6r3WvWlXGXi4"
      },
      "source": [
        "### Toxic or not\n",
        "Your main goal in this assignment is to classify, whether the comments are toxic or not. And practice with both classical approaches and PyTorch in the process.\n",
        "\n",
        "*Credits: This homework is inspired by YSDA NLP_course.*"
      ]
    },
    {
      "cell_type": "code",
      "execution_count": 43,
      "metadata": {
        "id": "qCqzTdVzGXi4",
        "outputId": "3b6eb6cf-ee82-40d3-c033-c2f4b844c053",
        "colab": {
          "base_uri": "https://localhost:8080/"
        }
      },
      "outputs": [
        {
          "output_type": "stream",
          "name": "stdout",
          "text": [
            "File ‘utils.py’ already there; not retrieving.\n",
            "\n",
            "File ‘features.py’ already there; not retrieving.\n",
            "\n"
          ]
        }
      ],
      "source": [
        "# In colab run this cell\n",
        "! wget https://raw.githubusercontent.com/girafe-ai/natural-language-processing/22f_msai/homeworks/assignment01_word_vectors/utils.py -nc\n",
        "! wget https://raw.githubusercontent.com/girafe-ai/natural-language-processing/22f_msai/homeworks/assignment01_word_vectors/features.py -nc"
      ]
    },
    {
      "cell_type": "code",
      "execution_count": 2,
      "metadata": {
        "id": "ZXH5KEx3GXi5",
        "outputId": "bb78c96c-ad2b-4882-9bd5-cf170848bd41",
        "colab": {
          "base_uri": "https://localhost:8080/"
        }
      },
      "outputs": [
        {
          "output_type": "stream",
          "name": "stdout",
          "text": [
            "--2022-11-05 04:39:19--  https://raw.githubusercontent.com/girafe-ai/ml-course/master/datasets/comments_small_dataset/comments.tsv\n",
            "Resolving raw.githubusercontent.com (raw.githubusercontent.com)... 185.199.109.133, 185.199.108.133, 185.199.111.133, ...\n",
            "Connecting to raw.githubusercontent.com (raw.githubusercontent.com)|185.199.109.133|:443... connected.\n",
            "HTTP request sent, awaiting response... 200 OK\n",
            "Length: 353358 (345K) [text/plain]\n",
            "Saving to: ‘comments.tsv’\n",
            "\n",
            "\rcomments.tsv          0%[                    ]       0  --.-KB/s               \rcomments.tsv        100%[===================>] 345.08K  --.-KB/s    in 0.03s   \n",
            "\n",
            "2022-11-05 04:39:19 (10.2 MB/s) - ‘comments.tsv’ saved [353358/353358]\n",
            "\n"
          ]
        }
      ],
      "source": [
        "try:\n",
        "    data = pd.read_csv('../../datasets/comments_small_dataset/comments.tsv', sep='\\t')\n",
        "except FileNotFoundError:\n",
        "    ! wget https://raw.githubusercontent.com/girafe-ai/ml-course/master/datasets/comments_small_dataset/comments.tsv -nc\n",
        "    data = pd.read_csv(\"comments.tsv\", sep='\\t')"
      ]
    },
    {
      "cell_type": "code",
      "execution_count": 3,
      "metadata": {
        "id": "ukjscQahGXi5",
        "outputId": "f05f07f6-e895-4b62-8cef-6157cc6b2333",
        "colab": {
          "base_uri": "https://localhost:8080/",
          "height": 206
        }
      },
      "outputs": [
        {
          "output_type": "execute_result",
          "data": {
            "text/plain": [
              "     should_ban                                       comment_text\n",
              "50            0  \"Those who're in advantageous positions are th...\n",
              "250           1          Fartsalot56 says f**k you motherclucker!!\n",
              "450           1  Are you a fool? \\n\\nI am sorry, but you seem t...\n",
              "650           1    I AM NOT A VANDAL!!!!!!!!!!!!!!!!!!!!!!!!!!!!!!\n",
              "850           0  Citing sources\\n\\nCheck out the Wikipedia:Citi..."
            ],
            "text/html": [
              "\n",
              "  <div id=\"df-e568a6fe-dfcc-49be-b7b6-afb7914b80a0\">\n",
              "    <div class=\"colab-df-container\">\n",
              "      <div>\n",
              "<style scoped>\n",
              "    .dataframe tbody tr th:only-of-type {\n",
              "        vertical-align: middle;\n",
              "    }\n",
              "\n",
              "    .dataframe tbody tr th {\n",
              "        vertical-align: top;\n",
              "    }\n",
              "\n",
              "    .dataframe thead th {\n",
              "        text-align: right;\n",
              "    }\n",
              "</style>\n",
              "<table border=\"1\" class=\"dataframe\">\n",
              "  <thead>\n",
              "    <tr style=\"text-align: right;\">\n",
              "      <th></th>\n",
              "      <th>should_ban</th>\n",
              "      <th>comment_text</th>\n",
              "    </tr>\n",
              "  </thead>\n",
              "  <tbody>\n",
              "    <tr>\n",
              "      <th>50</th>\n",
              "      <td>0</td>\n",
              "      <td>\"Those who're in advantageous positions are th...</td>\n",
              "    </tr>\n",
              "    <tr>\n",
              "      <th>250</th>\n",
              "      <td>1</td>\n",
              "      <td>Fartsalot56 says f**k you motherclucker!!</td>\n",
              "    </tr>\n",
              "    <tr>\n",
              "      <th>450</th>\n",
              "      <td>1</td>\n",
              "      <td>Are you a fool? \\n\\nI am sorry, but you seem t...</td>\n",
              "    </tr>\n",
              "    <tr>\n",
              "      <th>650</th>\n",
              "      <td>1</td>\n",
              "      <td>I AM NOT A VANDAL!!!!!!!!!!!!!!!!!!!!!!!!!!!!!!</td>\n",
              "    </tr>\n",
              "    <tr>\n",
              "      <th>850</th>\n",
              "      <td>0</td>\n",
              "      <td>Citing sources\\n\\nCheck out the Wikipedia:Citi...</td>\n",
              "    </tr>\n",
              "  </tbody>\n",
              "</table>\n",
              "</div>\n",
              "      <button class=\"colab-df-convert\" onclick=\"convertToInteractive('df-e568a6fe-dfcc-49be-b7b6-afb7914b80a0')\"\n",
              "              title=\"Convert this dataframe to an interactive table.\"\n",
              "              style=\"display:none;\">\n",
              "        \n",
              "  <svg xmlns=\"http://www.w3.org/2000/svg\" height=\"24px\"viewBox=\"0 0 24 24\"\n",
              "       width=\"24px\">\n",
              "    <path d=\"M0 0h24v24H0V0z\" fill=\"none\"/>\n",
              "    <path d=\"M18.56 5.44l.94 2.06.94-2.06 2.06-.94-2.06-.94-.94-2.06-.94 2.06-2.06.94zm-11 1L8.5 8.5l.94-2.06 2.06-.94-2.06-.94L8.5 2.5l-.94 2.06-2.06.94zm10 10l.94 2.06.94-2.06 2.06-.94-2.06-.94-.94-2.06-.94 2.06-2.06.94z\"/><path d=\"M17.41 7.96l-1.37-1.37c-.4-.4-.92-.59-1.43-.59-.52 0-1.04.2-1.43.59L10.3 9.45l-7.72 7.72c-.78.78-.78 2.05 0 2.83L4 21.41c.39.39.9.59 1.41.59.51 0 1.02-.2 1.41-.59l7.78-7.78 2.81-2.81c.8-.78.8-2.07 0-2.86zM5.41 20L4 18.59l7.72-7.72 1.47 1.35L5.41 20z\"/>\n",
              "  </svg>\n",
              "      </button>\n",
              "      \n",
              "  <style>\n",
              "    .colab-df-container {\n",
              "      display:flex;\n",
              "      flex-wrap:wrap;\n",
              "      gap: 12px;\n",
              "    }\n",
              "\n",
              "    .colab-df-convert {\n",
              "      background-color: #E8F0FE;\n",
              "      border: none;\n",
              "      border-radius: 50%;\n",
              "      cursor: pointer;\n",
              "      display: none;\n",
              "      fill: #1967D2;\n",
              "      height: 32px;\n",
              "      padding: 0 0 0 0;\n",
              "      width: 32px;\n",
              "    }\n",
              "\n",
              "    .colab-df-convert:hover {\n",
              "      background-color: #E2EBFA;\n",
              "      box-shadow: 0px 1px 2px rgba(60, 64, 67, 0.3), 0px 1px 3px 1px rgba(60, 64, 67, 0.15);\n",
              "      fill: #174EA6;\n",
              "    }\n",
              "\n",
              "    [theme=dark] .colab-df-convert {\n",
              "      background-color: #3B4455;\n",
              "      fill: #D2E3FC;\n",
              "    }\n",
              "\n",
              "    [theme=dark] .colab-df-convert:hover {\n",
              "      background-color: #434B5C;\n",
              "      box-shadow: 0px 1px 3px 1px rgba(0, 0, 0, 0.15);\n",
              "      filter: drop-shadow(0px 1px 2px rgba(0, 0, 0, 0.3));\n",
              "      fill: #FFFFFF;\n",
              "    }\n",
              "  </style>\n",
              "\n",
              "      <script>\n",
              "        const buttonEl =\n",
              "          document.querySelector('#df-e568a6fe-dfcc-49be-b7b6-afb7914b80a0 button.colab-df-convert');\n",
              "        buttonEl.style.display =\n",
              "          google.colab.kernel.accessAllowed ? 'block' : 'none';\n",
              "\n",
              "        async function convertToInteractive(key) {\n",
              "          const element = document.querySelector('#df-e568a6fe-dfcc-49be-b7b6-afb7914b80a0');\n",
              "          const dataTable =\n",
              "            await google.colab.kernel.invokeFunction('convertToInteractive',\n",
              "                                                     [key], {});\n",
              "          if (!dataTable) return;\n",
              "\n",
              "          const docLinkHtml = 'Like what you see? Visit the ' +\n",
              "            '<a target=\"_blank\" href=https://colab.research.google.com/notebooks/data_table.ipynb>data table notebook</a>'\n",
              "            + ' to learn more about interactive tables.';\n",
              "          element.innerHTML = '';\n",
              "          dataTable['output_type'] = 'display_data';\n",
              "          await google.colab.output.renderOutput(dataTable, element);\n",
              "          const docLink = document.createElement('div');\n",
              "          docLink.innerHTML = docLinkHtml;\n",
              "          element.appendChild(docLink);\n",
              "        }\n",
              "      </script>\n",
              "    </div>\n",
              "  </div>\n",
              "  "
            ]
          },
          "metadata": {},
          "execution_count": 3
        }
      ],
      "source": [
        "texts = data['comment_text'].values\n",
        "target = data['should_ban'].values\n",
        "data[50::200]"
      ]
    },
    {
      "cell_type": "code",
      "execution_count": 4,
      "metadata": {
        "id": "rLr14_lLGXi5"
      },
      "outputs": [],
      "source": [
        "from sklearn.model_selection import train_test_split\n",
        "texts_train, texts_test, y_train, y_test = train_test_split(texts, target, test_size=0.5, random_state=42)\n",
        "# print(texts_train)"
      ]
    },
    {
      "cell_type": "markdown",
      "metadata": {
        "id": "RmpmdGToGXi6"
      },
      "source": [
        "__Note:__ it is generally a good idea to split data into train/test before anything is done to them.\n",
        "\n",
        "It guards you against possible data leakage in the preprocessing stage. For example, should you decide to select words present in obscene tweets as features, you should only count those words over the training set. Otherwise your algoritm can cheat evaluation."
      ]
    },
    {
      "cell_type": "markdown",
      "metadata": {
        "id": "5kG4-gx6GXi6"
      },
      "source": [
        "### Preprocessing and tokenization\n",
        "\n",
        "Comments contain raw text with punctuation, upper/lowercase letters and even newline symbols.\n",
        "\n",
        "To simplify all further steps, we'll split text into space-separated tokens using one of nltk tokenizers.\n",
        "\n",
        "Generally, library `nltk` [link](https://www.nltk.org) is widely used in NLP. It is not necessary in here, but mentioned to intoduce it to you."
      ]
    },
    {
      "cell_type": "code",
      "execution_count": 5,
      "metadata": {
        "id": "yT9AafE_GXi6",
        "outputId": "537ba64c-48b5-4db8-ca94-54cd8b55af1f",
        "colab": {
          "base_uri": "https://localhost:8080/"
        }
      },
      "outputs": [
        {
          "output_type": "stream",
          "name": "stdout",
          "text": [
            "before: How to be a grown-up at work: replace \"I don't want to do that\" with \"Ok, great!\".\n",
            "after: how to be a grown-up at work : replace \" i don't want to do that \" with \" ok , great ! \" .\n"
          ]
        }
      ],
      "source": [
        "from nltk.tokenize import TweetTokenizer\n",
        "tokenizer = TweetTokenizer()\n",
        "preprocess = lambda text: ' '.join(tokenizer.tokenize(text.lower()))\n",
        "\n",
        "text = 'How to be a grown-up at work: replace \"I don\\'t want to do that\" with \"Ok, great!\".'\n",
        "print(\"before:\", text,)\n",
        "print(\"after:\", preprocess(text),)"
      ]
    },
    {
      "cell_type": "code",
      "execution_count": 7,
      "metadata": {
        "id": "aDFE_m3GGXi7"
      },
      "outputs": [],
      "source": [
        "# task: preprocess each comment in train and test\n",
        "\n",
        "texts_train = [preprocess(string)  for string in texts_train] \n",
        "texts_test = [preprocess(string)  for string in texts_test]"
      ]
    },
    {
      "cell_type": "code",
      "execution_count": 8,
      "metadata": {
        "id": "wzv286X5GXi7"
      },
      "outputs": [],
      "source": [
        "# Small check that everything is done properly\n",
        "assert texts_train[5] ==  'who cares anymore . they attack with impunity .'\n",
        "assert texts_test[89] == 'hey todds ! quick q ? why are you so gay'\n",
        "assert len(texts_test) == len(y_test)"
      ]
    },
    {
      "cell_type": "markdown",
      "metadata": {
        "id": "G1aDtgkYGXi7"
      },
      "source": [
        "### Step 1: bag of words\n",
        "\n",
        "One traditional approach to such problem is to use bag of words features:\n",
        "1. build a vocabulary of frequent words (use train data only)\n",
        "2. for each training sample, count the number of times a word occurs in it (for each word in vocabulary).\n",
        "3. consider this count a feature for some classifier\n",
        "\n",
        "__Note:__ in practice, you can compute such features using sklearn. __Please don't do that in the current assignment, though.__\n",
        "* `from sklearn.feature_extraction.text import CountVectorizer, TfidfVectorizer`"
      ]
    },
    {
      "cell_type": "code",
      "source": [
        "# texts_train"
      ],
      "metadata": {
        "id": "pNFpxsQsAHwV"
      },
      "execution_count": null,
      "outputs": []
    },
    {
      "cell_type": "code",
      "execution_count": 9,
      "metadata": {
        "id": "7ZNDCzuWGXi8",
        "colab": {
          "base_uri": "https://localhost:8080/"
        },
        "outputId": "79384265-3581-470b-a2c4-ca7c61026af9"
      },
      "outputs": [
        {
          "output_type": "stream",
          "name": "stdout",
          "text": [
            "example features: ['i', 'shown', 'attempting', 'pack', 'projects', 'sh', 'hoops', 'athanasiou', 'rey', 'what', '14:56', 'linking', 'due', 'achof', 'consumers', 'numbered', '@', 'victor', 'wine', 'michael', 'skepticism', 'thoughtlessness', 'authenticity', 'nz', 'held', 'administrator', 'overpopulated', 'room', 'player', 'adopted', '90', 'ref', 'heritage', 'frequent', 'dare', 'ddduu', 'goodness', '❤', 'perceived', 'puzzled', 'confused', 'hundreds', 'persons', 'acting', 'defense', 'khartoum', 'trio', 'grüßen', 'cocksucking', 'toot', 'dress', 'rather', 'guidance', 'girl', 'playing', 'waddle', 'inconsistent', 'wikt']\n"
          ]
        }
      ],
      "source": [
        "from features import BoW\n",
        "\n",
        "# task: find up to k most frequent tokens in texts_train,\n",
        "# sort them by number of occurences (highest first)\n",
        "k = min(10000, len(set(' '.join(texts_train).split())))\n",
        "\n",
        "#<YOUR CODE>\n",
        "bow = BoW(k)\n",
        "bow.fit(texts_train)\n",
        "\n",
        "print('example features:', bow.get_vocabulary()[::100])"
      ]
    },
    {
      "cell_type": "code",
      "execution_count": 10,
      "metadata": {
        "id": "UnDnsE-WGXi8"
      },
      "outputs": [],
      "source": [
        "X_train_bow = bow.transform(texts_train)\n",
        "X_test_bow = bow.transform(texts_test)"
      ]
    },
    {
      "cell_type": "code",
      "source": [
        "X_train_bow.shape"
      ],
      "metadata": {
        "colab": {
          "base_uri": "https://localhost:8080/"
        },
        "id": "2tnV_SFwMtbx",
        "outputId": "2e25b9f9-7886-4138-948d-bbcb34ed4b2a"
      },
      "execution_count": 11,
      "outputs": [
        {
          "output_type": "execute_result",
          "data": {
            "text/plain": [
              "(500, 5707)"
            ]
          },
          "metadata": {},
          "execution_count": 11
        }
      ]
    },
    {
      "cell_type": "code",
      "source": [
        "X_test_bow.shape"
      ],
      "metadata": {
        "colab": {
          "base_uri": "https://localhost:8080/"
        },
        "id": "p1LSHjz8GjIf",
        "outputId": "b4914ae9-1d28-40b2-bba0-58f739926754"
      },
      "execution_count": 12,
      "outputs": [
        {
          "output_type": "execute_result",
          "data": {
            "text/plain": [
              "(500, 5707)"
            ]
          },
          "metadata": {},
          "execution_count": 12
        }
      ]
    },
    {
      "cell_type": "code",
      "execution_count": 13,
      "metadata": {
        "id": "_FBP3WLAGXi8"
      },
      "outputs": [],
      "source": [
        "# Small check that everything is done properly\n",
        "bow_vocabulary = bow.get_vocabulary()\n",
        "k_max = len(set(' '.join(texts_train).split()))\n",
        "assert X_train_bow.shape == (len(texts_train), min(k, k_max))\n",
        "assert X_test_bow.shape == (len(texts_test), min(k, k_max))\n",
        "assert np.all(X_train_bow[5:10].sum(-1) == np.array([len(s.split()) for s in  texts_train[5:10]]))\n",
        "assert len(bow_vocabulary) <= min(k, k_max)\n",
        "assert X_train_bow[6, bow_vocabulary.index('.')] == texts_train[6].split().count('.')"
      ]
    },
    {
      "cell_type": "markdown",
      "metadata": {
        "id": "ZzW3BgJ_GXi8"
      },
      "source": [
        "Now let's do the trick with `sklearn` logistic regression implementation:"
      ]
    },
    {
      "cell_type": "code",
      "execution_count": 14,
      "metadata": {
        "id": "FKoAeHU3GXi8"
      },
      "outputs": [],
      "source": [
        "from sklearn.linear_model import LogisticRegression\n",
        "bow_model = LogisticRegression().fit(X_train_bow, y_train)"
      ]
    },
    {
      "cell_type": "code",
      "execution_count": 15,
      "metadata": {
        "id": "fUNVDTLqGXi8",
        "colab": {
          "base_uri": "https://localhost:8080/",
          "height": 265
        },
        "outputId": "263faa78-b96f-4e96-ce32-bbe591d33fb2"
      },
      "outputs": [
        {
          "output_type": "display_data",
          "data": {
            "text/plain": [
              "<Figure size 432x288 with 1 Axes>"
            ],
            "image/png": "[encoded data removed]"
          },
          "metadata": {
            "needs_background": "light"
          }
        }
      ],
      "source": [
        "from sklearn.metrics import roc_auc_score, roc_curve\n",
        "\n",
        "def plot_sklearn_roc_auc_score(X_train, y_train, X_test, y_test, model_for_auc):\n",
        "    \n",
        "    for name, X, y, model in [\n",
        "    ('train', X_train, y_train, model_for_auc),\n",
        "    ('test ', X_test, y_test, model_for_auc)\n",
        "    ]:\n",
        "        proba = model.predict_proba(X)[:, 1]\n",
        "        auc = roc_auc_score(y, proba)\n",
        "        plt.plot(*roc_curve(y, proba)[:2], label='%s AUC=%.4f' % (name, auc))\n",
        "\n",
        "        plt.plot([0, 1], [0, 1], '--', color='black',)\n",
        "        plt.legend(fontsize='large')\n",
        "        plt.grid()\n",
        "\n",
        "plot_sklearn_roc_auc_score(X_train_bow, y_train, X_test_bow, y_test, bow_model)"
      ]
    },
    {
      "cell_type": "markdown",
      "metadata": {
        "id": "QVSqaEl0GXi9"
      },
      "source": [
        "Seems alright. Now let's create the simple logistic regression using PyTorch. Just like in the classwork."
      ]
    },
    {
      "cell_type": "code",
      "execution_count": 16,
      "metadata": {
        "id": "ponAQbuMGXi9"
      },
      "outputs": [],
      "source": [
        "import torch\n",
        "from torch import nn\n",
        "from torch.nn import functional as F\n",
        "from torch.optim.lr_scheduler import StepLR, ReduceLROnPlateau\n",
        "\n",
        "from sklearn.metrics import accuracy_score"
      ]
    },
    {
      "cell_type": "code",
      "execution_count": 22,
      "metadata": {
        "id": "wi1Aru3SGXi9"
      },
      "outputs": [],
      "source": [
        "from utils import plot_train_process"
      ]
    },
    {
      "cell_type": "code",
      "source": [
        "device = torch.device('cuda:0') if torch.cuda.is_available else torch.device('cpu')\n",
        "device = torch.device('cpu')"
      ],
      "metadata": {
        "id": "nn5e6wKje1zw"
      },
      "execution_count": 23,
      "outputs": []
    },
    {
      "cell_type": "code",
      "execution_count": 24,
      "metadata": {
        "id": "G2eCpyyvGXi9",
        "colab": {
          "base_uri": "https://localhost:8080/"
        },
        "outputId": "823588ae-7f44-46c0-8f42-97a3548668c0"
      },
      "outputs": [
        {
          "output_type": "execute_result",
          "data": {
            "text/plain": [
              "Sequential(\n",
              "  (0): Linear(in_features=5707, out_features=2, bias=True)\n",
              ")"
            ]
          },
          "metadata": {},
          "execution_count": 24
        }
      ],
      "source": [
        "from torch.nn.modules.activation import ReLU\n",
        "\n",
        "features = min(k, k_max)\n",
        "classes = 2\n",
        "model = nn.Sequential(  \n",
        "  nn.Linear(features, classes)\n",
        ")\n",
        "\n",
        "model.to(device)"
      ]
    },
    {
      "cell_type": "markdown",
      "metadata": {
        "id": "fT5W5fiDGXi9"
      },
      "source": [
        "Remember what we discussed about loss functions! `nn.CrossEntropyLoss` combines both log-softmax and `NLLLoss`.\n",
        "\n",
        "__Be careful with it! Criterion `nn.CrossEntropyLoss` with still work with log-softmax output, but it won't allow you to converge to the optimum.__ Next comes small demonstration:"
      ]
    },
    {
      "cell_type": "code",
      "execution_count": 25,
      "metadata": {
        "id": "EjxT-lBRGXi9"
      },
      "outputs": [],
      "source": [
        "# loss_function = nn.NLLLoss()\n",
        "loss_function = nn.CrossEntropyLoss()"
      ]
    },
    {
      "cell_type": "code",
      "execution_count": 26,
      "metadata": {
        "id": "qTU67gCLGXi9"
      },
      "outputs": [],
      "source": [
        "### YOUR CODE HERE\n",
        "opt = torch.optim.Adam(model.parameters(), lr=1e-3) "
      ]
    },
    {
      "cell_type": "code",
      "source": [
        "type(X_train_bow)"
      ],
      "metadata": {
        "colab": {
          "base_uri": "https://localhost:8080/"
        },
        "id": "rHCDtMMbRs1_",
        "outputId": "36e8db0e-75f5-46e5-cec0-eea1f67d414c"
      },
      "execution_count": 27,
      "outputs": [
        {
          "output_type": "execute_result",
          "data": {
            "text/plain": [
              "numpy.ndarray"
            ]
          },
          "metadata": {},
          "execution_count": 27
        }
      ]
    },
    {
      "cell_type": "code",
      "execution_count": null,
      "metadata": {
        "id": "dul28zVVGXi9"
      },
      "outputs": [],
      "source": [
        "X_train_bow_torch = torch.from_numpy(X_train_bow).to(device)\n",
        "X_test_bow_torch = torch.from_numpy(X_test_bow).to(device)\n",
        "\n",
        "y_train_torch = torch.from_numpy(y_train).to(device)\n",
        "y_test_torch = torch.from_numpy(y_test).to(device)"
      ]
    },
    {
      "cell_type": "code",
      "source": [
        "X_train_bow_torch"
      ],
      "metadata": {
        "colab": {
          "base_uri": "https://localhost:8080/"
        },
        "id": "phIkrhJiNROW",
        "outputId": "fd52972e-e3a5-45f2-d0eb-d301357d1ef4"
      },
      "execution_count": null,
      "outputs": [
        {
          "output_type": "execute_result",
          "data": {
            "text/plain": [
              "tensor([[ 0.,  0.,  0.,  ...,  0.,  0.,  0.],\n",
              "        [ 4.,  0.,  0.,  ...,  0.,  0.,  0.],\n",
              "        [ 1.,  0.,  0.,  ...,  0.,  0.,  0.],\n",
              "        ...,\n",
              "        [ 0.,  0.,  0.,  ...,  0.,  0.,  0.],\n",
              "        [35.,  0.,  0.,  ...,  0.,  0.,  0.],\n",
              "        [ 1.,  0.,  0.,  ...,  0.,  0.,  0.]], device='cuda:0')"
            ]
          },
          "metadata": {},
          "execution_count": 25
        }
      ]
    },
    {
      "cell_type": "code",
      "source": [
        "X_test_bow_torch"
      ],
      "metadata": {
        "colab": {
          "base_uri": "https://localhost:8080/"
        },
        "id": "a7iWvxOANVBe",
        "outputId": "358c4c66-ea3e-4eeb-96a5-6e9eb6c5747a"
      },
      "execution_count": null,
      "outputs": [
        {
          "output_type": "execute_result",
          "data": {
            "text/plain": [
              "tensor([[0., 0., 0.,  ..., 0., 0., 0.],\n",
              "        [0., 0., 0.,  ..., 0., 0., 0.],\n",
              "        [1., 0., 0.,  ..., 0., 0., 0.],\n",
              "        ...,\n",
              "        [0., 0., 0.,  ..., 0., 0., 0.],\n",
              "        [0., 0., 0.,  ..., 0., 0., 0.],\n",
              "        [4., 1., 0.,  ..., 0., 0., 0.]], device='cuda:0')"
            ]
          },
          "metadata": {},
          "execution_count": 26
        }
      ]
    },
    {
      "cell_type": "markdown",
      "metadata": {
        "id": "N8q_-E2YGXi-"
      },
      "source": [
        "Let's test that everything is fine"
      ]
    },
    {
      "cell_type": "code",
      "execution_count": null,
      "metadata": {
        "id": "eyof7aXQGXi-"
      },
      "outputs": [],
      "source": [
        "loss_func = loss_function(model(X_train_bow_torch[:3]), y_train_torch[:3])"
      ]
    },
    {
      "cell_type": "code",
      "execution_count": null,
      "metadata": {
        "id": "KYJhGTD4GXi-"
      },
      "outputs": [],
      "source": [
        "assert type(loss_func.item()) == float"
      ]
    },
    {
      "cell_type": "markdown",
      "metadata": {
        "id": "ktbjnmkmGXi-"
      },
      "source": [
        "Here comes small function to train the model. In future we will take in into separate file, but for this homework it's ok to implement it here. "
      ]
    },
    {
      "cell_type": "code",
      "execution_count": 32,
      "metadata": {
        "id": "2PgIy7-NGXi-"
      },
      "outputs": [],
      "source": [
        "def train_model(\n",
        "    model,\n",
        "    opt,\n",
        "    lr_scheduler,\n",
        "    X_train_torch,\n",
        "    y_train_torch,\n",
        "    X_val_torch,\n",
        "    y_val_torch,\n",
        "    loss_func, \n",
        "    n_iterations=500,\n",
        "    batch_size=32,\n",
        "    warm_start=False,\n",
        "    show_plots=True,\n",
        "    eval_every=10\n",
        "):\n",
        "    if not warm_start:\n",
        "        for name, module in model.named_children():\n",
        "            print('resetting ', name)\n",
        "            try:\n",
        "                module.reset_parameters()\n",
        "            except AttributeError as e:\n",
        "                print('Cannot reset {} module parameters: {}'.format(name, e))\n",
        "\n",
        "    train_loss_history = []\n",
        "    train_acc_history = []\n",
        "    val_loss_history = []\n",
        "    val_acc_history = []\n",
        "\n",
        "    local_train_loss_history = []\n",
        "    local_train_acc_history = []\n",
        "    for i in range(n_iterations):\n",
        "\n",
        "        # sample 256 random observations\n",
        "        ix = np.random.randint(0, len(X_train_torch), batch_size)\n",
        "        x_batch = X_train_torch[ix]\n",
        "        y_batch = y_train_torch[ix]\n",
        "\n",
        "        x_batch = x_batch.to(device)\n",
        "        y_batch = y_batch.to(device)\n",
        "\n",
        "        # predict log-probabilities or logits\n",
        "        ### YOUR CODE\n",
        "        y_predicted = model(x_batch) \n",
        "        y_predicted = y_predicted.to(device)\n",
        "\n",
        "        # compute loss, just like before\n",
        "        ### YOUR CODE        \n",
        "        loss = loss_function(y_predicted, y_batch) \n",
        "\n",
        "        # compute gradients\n",
        "        ### YOUR CODE\n",
        "        loss.backward()\n",
        "\n",
        "        # Adam step\n",
        "        ### YOUR CODE\n",
        "        opt.step()\n",
        "\n",
        "        # clear gradients\n",
        "        ### YOUR CODE\n",
        "        opt.zero_grad()       \n",
        "\n",
        "\n",
        "        local_train_loss_history.append(loss.data.cpu().numpy())\n",
        "        local_train_acc_history.append(\n",
        "            accuracy_score(\n",
        "                y_batch.cpu().detach().numpy(),\n",
        "                y_predicted.cpu().detach().numpy().argmax(axis=1)\n",
        "            )\n",
        "        )\n",
        "\n",
        "        if i % eval_every == 0:\n",
        "            train_loss_history.append(np.mean(local_train_loss_history))\n",
        "            train_acc_history.append(np.mean(local_train_acc_history))\n",
        "            local_train_loss_history, local_train_acc_history = [], []\n",
        "\n",
        "            predictions_val = model(X_val_torch)\n",
        "            val_loss_history.append(loss_function(predictions_val, y_val_torch).to('cpu').detach().item())\n",
        "\n",
        "            acc_score_val = accuracy_score(y_val_torch.cpu().numpy(), predictions_val.to('cpu').detach().numpy().argmax(axis=1))\n",
        "            val_acc_history.append(acc_score_val)\n",
        "            # lr_scheduler.step(train_loss_history[-1])\n",
        "            lr_scheduler.step()\n",
        "\n",
        "            if show_plots:\n",
        "                display.clear_output(wait=True)\n",
        "                plot_train_process(train_loss_history, val_loss_history, train_acc_history, val_acc_history)\n",
        "    return model"
      ]
    },
    {
      "cell_type": "markdown",
      "metadata": {
        "id": "tF4iaFxgGXi-"
      },
      "source": [
        "Let's run it on the data. Note, that here we use the `test` part of the data for validation. It's not so good idea in general, but in this task our main goal is practice."
      ]
    },
    {
      "cell_type": "code",
      "execution_count": null,
      "metadata": {
        "id": "9GZhoekTGXi-",
        "colab": {
          "base_uri": "https://localhost:8080/",
          "height": 313
        },
        "outputId": "5fb5369a-e125-40b7-bdb2-261f7f19011a"
      },
      "outputs": [
        {
          "output_type": "display_data",
          "data": {
            "text/plain": [
              "<Figure size 1080x360 with 2 Axes>"
            ],
            "image/png": "[encoded data removed]"
          },
          "metadata": {
            "needs_background": "light"
          }
        },
        {
          "output_type": "execute_result",
          "data": {
            "text/plain": [
              "Sequential(\n",
              "  (0): Linear(in_features=5707, out_features=2, bias=True)\n",
              ")"
            ]
          },
          "metadata": {},
          "execution_count": 30
        }
      ],
      "source": [
        "lr_scheduler=torch.optim.lr_scheduler.ExponentialLR(opt, gamma=0.9)\n",
        "train_model(model, opt, lr_scheduler, X_train_bow_torch, y_train_torch, X_test_bow_torch, y_test_torch, loss_func=loss_func)"
      ]
    },
    {
      "cell_type": "code",
      "execution_count": null,
      "metadata": {
        "id": "Yq3fGwMhGXi-",
        "colab": {
          "base_uri": "https://localhost:8080/",
          "height": 265
        },
        "outputId": "16656890-92af-4a46-aa3d-4c45043fd41b"
      },
      "outputs": [
        {
          "output_type": "display_data",
          "data": {
            "text/plain": [
              "<Figure size 432x288 with 1 Axes>"
            ],
            "image/png": "[encoded data removed]"
          },
          "metadata": {
            "needs_background": "light"
          }
        }
      ],
      "source": [
        "for name, X, y, model in [\n",
        "    ('train', X_train_bow_torch, y_train, model),\n",
        "    ('test ', X_test_bow_torch, y_test, model)\n",
        "]:\n",
        "    proba = model(X).detach().cpu().numpy()[:, 1]\n",
        "    auc = roc_auc_score(y, proba)\n",
        "    plt.plot(*roc_curve(y, proba)[:2], label='%s AUC=%.4f' % (name, auc))\n",
        "\n",
        "plt.plot([0, 1], [0, 1], '--', color='black',)\n",
        "plt.legend(fontsize='large')\n",
        "plt.grid()"
      ]
    },
    {
      "cell_type": "markdown",
      "metadata": {
        "id": "t8udogRdGXi-"
      },
      "source": [
        "Try to vary the number of tokens `k` and check how the model performance changes. Show it on a plot."
      ]
    },
    {
      "cell_type": "code",
      "execution_count": null,
      "metadata": {
        "id": "V59jpyKQGXi-",
        "colab": {
          "base_uri": "https://localhost:8080/",
          "height": 1000
        },
        "outputId": "91e30b3b-24e3-4ef3-93e8-cc28438877b2"
      },
      "outputs": [
        {
          "output_type": "stream",
          "name": "stderr",
          "text": [
            "\r  0%|          | 0/57 [00:00<?, ?it/s]"
          ]
        },
        {
          "output_type": "stream",
          "name": "stdout",
          "text": [
            "resetting  0\n"
          ]
        },
        {
          "output_type": "stream",
          "name": "stderr",
          "text": [
            "\r  2%|▏         | 1/57 [00:04<04:13,  4.52s/it]"
          ]
        },
        {
          "output_type": "stream",
          "name": "stdout",
          "text": [
            "resetting  0\n"
          ]
        },
        {
          "output_type": "stream",
          "name": "stderr",
          "text": [
            "\r  4%|▎         | 2/57 [00:09<04:10,  4.55s/it]"
          ]
        },
        {
          "output_type": "stream",
          "name": "stdout",
          "text": [
            "resetting  0\n"
          ]
        },
        {
          "output_type": "stream",
          "name": "stderr",
          "text": [
            "\r  5%|▌         | 3/57 [00:13<04:09,  4.63s/it]"
          ]
        },
        {
          "output_type": "stream",
          "name": "stdout",
          "text": [
            "resetting  0\n"
          ]
        },
        {
          "output_type": "stream",
          "name": "stderr",
          "text": [
            "\r  7%|▋         | 4/57 [00:19<04:17,  4.87s/it]"
          ]
        },
        {
          "output_type": "stream",
          "name": "stdout",
          "text": [
            "resetting  0\n"
          ]
        },
        {
          "output_type": "stream",
          "name": "stderr",
          "text": [
            "\r  9%|▉         | 5/57 [00:25<04:37,  5.34s/it]"
          ]
        },
        {
          "output_type": "stream",
          "name": "stdout",
          "text": [
            "resetting  0\n"
          ]
        },
        {
          "output_type": "stream",
          "name": "stderr",
          "text": [
            "\r 11%|█         | 6/57 [00:30<04:27,  5.25s/it]"
          ]
        },
        {
          "output_type": "stream",
          "name": "stdout",
          "text": [
            "resetting  0\n"
          ]
        },
        {
          "output_type": "stream",
          "name": "stderr",
          "text": [
            "\r 12%|█▏        | 7/57 [00:35<04:20,  5.20s/it]"
          ]
        },
        {
          "output_type": "stream",
          "name": "stdout",
          "text": [
            "resetting  0\n"
          ]
        },
        {
          "output_type": "stream",
          "name": "stderr",
          "text": [
            "\r 14%|█▍        | 8/57 [00:40<04:15,  5.21s/it]"
          ]
        },
        {
          "output_type": "stream",
          "name": "stdout",
          "text": [
            "resetting  0\n"
          ]
        },
        {
          "output_type": "stream",
          "name": "stderr",
          "text": [
            "\r 16%|█▌        | 9/57 [00:46<04:12,  5.26s/it]"
          ]
        },
        {
          "output_type": "stream",
          "name": "stdout",
          "text": [
            "resetting  0\n"
          ]
        },
        {
          "output_type": "stream",
          "name": "stderr",
          "text": [
            "\r 18%|█▊        | 10/57 [00:51<04:16,  5.46s/it]"
          ]
        },
        {
          "output_type": "stream",
          "name": "stdout",
          "text": [
            "resetting  0\n"
          ]
        },
        {
          "output_type": "stream",
          "name": "stderr",
          "text": [
            "\r 19%|█▉        | 11/57 [00:57<04:11,  5.47s/it]"
          ]
        },
        {
          "output_type": "stream",
          "name": "stdout",
          "text": [
            "resetting  0\n"
          ]
        },
        {
          "output_type": "stream",
          "name": "stderr",
          "text": [
            "\r 21%|██        | 12/57 [01:03<04:08,  5.52s/it]"
          ]
        },
        {
          "output_type": "stream",
          "name": "stdout",
          "text": [
            "resetting  0\n"
          ]
        },
        {
          "output_type": "stream",
          "name": "stderr",
          "text": [
            "\r 23%|██▎       | 13/57 [01:08<04:05,  5.58s/it]"
          ]
        },
        {
          "output_type": "stream",
          "name": "stdout",
          "text": [
            "resetting  0\n"
          ]
        },
        {
          "output_type": "stream",
          "name": "stderr",
          "text": [
            "\r 25%|██▍       | 14/57 [01:14<04:04,  5.69s/it]"
          ]
        },
        {
          "output_type": "stream",
          "name": "stdout",
          "text": [
            "resetting  0\n"
          ]
        },
        {
          "output_type": "stream",
          "name": "stderr",
          "text": [
            "\r 26%|██▋       | 15/57 [01:20<04:03,  5.80s/it]"
          ]
        },
        {
          "output_type": "stream",
          "name": "stdout",
          "text": [
            "resetting  0\n"
          ]
        },
        {
          "output_type": "stream",
          "name": "stderr",
          "text": [
            "\r 28%|██▊       | 16/57 [01:26<04:01,  5.89s/it]"
          ]
        },
        {
          "output_type": "stream",
          "name": "stdout",
          "text": [
            "resetting  0\n"
          ]
        },
        {
          "output_type": "stream",
          "name": "stderr",
          "text": [
            "\r 30%|██▉       | 17/57 [01:33<04:00,  6.01s/it]"
          ]
        },
        {
          "output_type": "stream",
          "name": "stdout",
          "text": [
            "resetting  0\n"
          ]
        },
        {
          "output_type": "stream",
          "name": "stderr",
          "text": [
            "\r 32%|███▏      | 18/57 [01:39<03:59,  6.15s/it]"
          ]
        },
        {
          "output_type": "stream",
          "name": "stdout",
          "text": [
            "resetting  0\n"
          ]
        },
        {
          "output_type": "stream",
          "name": "stderr",
          "text": [
            "\r 33%|███▎      | 19/57 [01:46<03:56,  6.22s/it]"
          ]
        },
        {
          "output_type": "stream",
          "name": "stdout",
          "text": [
            "resetting  0\n"
          ]
        },
        {
          "output_type": "stream",
          "name": "stderr",
          "text": [
            "\r 35%|███▌      | 20/57 [01:52<03:53,  6.32s/it]"
          ]
        },
        {
          "output_type": "stream",
          "name": "stdout",
          "text": [
            "resetting  0\n"
          ]
        },
        {
          "output_type": "stream",
          "name": "stderr",
          "text": [
            "\r 37%|███▋      | 21/57 [01:59<03:51,  6.43s/it]"
          ]
        },
        {
          "output_type": "stream",
          "name": "stdout",
          "text": [
            "resetting  0\n"
          ]
        },
        {
          "output_type": "stream",
          "name": "stderr",
          "text": [
            "\r 39%|███▊      | 22/57 [02:06<03:48,  6.54s/it]"
          ]
        },
        {
          "output_type": "stream",
          "name": "stdout",
          "text": [
            "resetting  0\n"
          ]
        },
        {
          "output_type": "stream",
          "name": "stderr",
          "text": [
            "\r 40%|████      | 23/57 [02:13<03:50,  6.78s/it]"
          ]
        },
        {
          "output_type": "stream",
          "name": "stdout",
          "text": [
            "resetting  0\n"
          ]
        },
        {
          "output_type": "stream",
          "name": "stderr",
          "text": [
            "\r 42%|████▏     | 24/57 [02:20<03:45,  6.83s/it]"
          ]
        },
        {
          "output_type": "stream",
          "name": "stdout",
          "text": [
            "resetting  0\n"
          ]
        },
        {
          "output_type": "stream",
          "name": "stderr",
          "text": [
            "\r 44%|████▍     | 25/57 [02:27<03:40,  6.90s/it]"
          ]
        },
        {
          "output_type": "stream",
          "name": "stdout",
          "text": [
            "resetting  0\n"
          ]
        },
        {
          "output_type": "stream",
          "name": "stderr",
          "text": [
            "\r 46%|████▌     | 26/57 [02:34<03:35,  6.96s/it]"
          ]
        },
        {
          "output_type": "stream",
          "name": "stdout",
          "text": [
            "resetting  0\n"
          ]
        },
        {
          "output_type": "stream",
          "name": "stderr",
          "text": [
            "\r 47%|████▋     | 27/57 [02:41<03:32,  7.07s/it]"
          ]
        },
        {
          "output_type": "stream",
          "name": "stdout",
          "text": [
            "resetting  0\n"
          ]
        },
        {
          "output_type": "stream",
          "name": "stderr",
          "text": [
            "\r 49%|████▉     | 28/57 [02:49<03:27,  7.15s/it]"
          ]
        },
        {
          "output_type": "stream",
          "name": "stdout",
          "text": [
            "resetting  0\n"
          ]
        },
        {
          "output_type": "stream",
          "name": "stderr",
          "text": [
            "\r 51%|█████     | 29/57 [02:58<03:36,  7.73s/it]"
          ]
        },
        {
          "output_type": "stream",
          "name": "stdout",
          "text": [
            "resetting  0\n"
          ]
        },
        {
          "output_type": "stream",
          "name": "stderr",
          "text": [
            "\r 53%|█████▎    | 30/57 [03:05<03:28,  7.72s/it]"
          ]
        },
        {
          "output_type": "stream",
          "name": "stdout",
          "text": [
            "resetting  0\n"
          ]
        },
        {
          "output_type": "stream",
          "name": "stderr",
          "text": [
            "\r 54%|█████▍    | 31/57 [03:13<03:21,  7.73s/it]"
          ]
        },
        {
          "output_type": "stream",
          "name": "stdout",
          "text": [
            "resetting  0\n"
          ]
        },
        {
          "output_type": "stream",
          "name": "stderr",
          "text": [
            "\r 56%|█████▌    | 32/57 [03:22<03:18,  7.93s/it]"
          ]
        },
        {
          "output_type": "stream",
          "name": "stdout",
          "text": [
            "resetting  0\n"
          ]
        },
        {
          "output_type": "stream",
          "name": "stderr",
          "text": [
            "\r 58%|█████▊    | 33/57 [03:30<03:10,  7.94s/it]"
          ]
        },
        {
          "output_type": "stream",
          "name": "stdout",
          "text": [
            "resetting  0\n"
          ]
        },
        {
          "output_type": "stream",
          "name": "stderr",
          "text": [
            "\r 60%|█████▉    | 34/57 [03:38<03:03,  7.98s/it]"
          ]
        },
        {
          "output_type": "stream",
          "name": "stdout",
          "text": [
            "resetting  0\n"
          ]
        },
        {
          "output_type": "stream",
          "name": "stderr",
          "text": [
            "\r 61%|██████▏   | 35/57 [03:46<02:56,  8.04s/it]"
          ]
        },
        {
          "output_type": "stream",
          "name": "stdout",
          "text": [
            "resetting  0\n"
          ]
        },
        {
          "output_type": "stream",
          "name": "stderr",
          "text": [
            "\r 63%|██████▎   | 36/57 [03:56<03:03,  8.72s/it]"
          ]
        },
        {
          "output_type": "stream",
          "name": "stdout",
          "text": [
            "resetting  0\n"
          ]
        },
        {
          "output_type": "stream",
          "name": "stderr",
          "text": [
            "\r 65%|██████▍   | 37/57 [04:05<02:52,  8.64s/it]"
          ]
        },
        {
          "output_type": "stream",
          "name": "stdout",
          "text": [
            "resetting  0\n"
          ]
        },
        {
          "output_type": "stream",
          "name": "stderr",
          "text": [
            "\r 67%|██████▋   | 38/57 [04:13<02:43,  8.62s/it]"
          ]
        },
        {
          "output_type": "stream",
          "name": "stdout",
          "text": [
            "resetting  0\n"
          ]
        },
        {
          "output_type": "stream",
          "name": "stderr",
          "text": [
            "\r 68%|██████▊   | 39/57 [04:22<02:35,  8.63s/it]"
          ]
        },
        {
          "output_type": "stream",
          "name": "stdout",
          "text": [
            "resetting  0\n"
          ]
        },
        {
          "output_type": "stream",
          "name": "stderr",
          "text": [
            "\r 70%|███████   | 40/57 [04:30<02:26,  8.63s/it]"
          ]
        },
        {
          "output_type": "stream",
          "name": "stdout",
          "text": [
            "resetting  0\n"
          ]
        },
        {
          "output_type": "stream",
          "name": "stderr",
          "text": [
            "\r 72%|███████▏  | 41/57 [04:39<02:18,  8.68s/it]"
          ]
        },
        {
          "output_type": "stream",
          "name": "stdout",
          "text": [
            "resetting  0\n"
          ]
        },
        {
          "output_type": "stream",
          "name": "stderr",
          "text": [
            "\r 74%|███████▎  | 42/57 [04:48<02:11,  8.76s/it]"
          ]
        },
        {
          "output_type": "stream",
          "name": "stdout",
          "text": [
            "resetting  0\n"
          ]
        },
        {
          "output_type": "stream",
          "name": "stderr",
          "text": [
            "\r 75%|███████▌  | 43/57 [04:57<02:04,  8.88s/it]"
          ]
        },
        {
          "output_type": "stream",
          "name": "stdout",
          "text": [
            "resetting  0\n"
          ]
        },
        {
          "output_type": "stream",
          "name": "stderr",
          "text": [
            "\r 77%|███████▋  | 44/57 [05:06<01:56,  8.95s/it]"
          ]
        },
        {
          "output_type": "stream",
          "name": "stdout",
          "text": [
            "resetting  0\n"
          ]
        },
        {
          "output_type": "stream",
          "name": "stderr",
          "text": [
            "\r 79%|███████▉  | 45/57 [05:17<01:54,  9.52s/it]"
          ]
        },
        {
          "output_type": "stream",
          "name": "stdout",
          "text": [
            "resetting  0\n"
          ]
        },
        {
          "output_type": "stream",
          "name": "stderr",
          "text": [
            "\r 81%|████████  | 46/57 [05:27<01:45,  9.56s/it]"
          ]
        },
        {
          "output_type": "stream",
          "name": "stdout",
          "text": [
            "resetting  0\n"
          ]
        },
        {
          "output_type": "stream",
          "name": "stderr",
          "text": [
            "\r 82%|████████▏ | 47/57 [05:36<01:35,  9.54s/it]"
          ]
        },
        {
          "output_type": "stream",
          "name": "stdout",
          "text": [
            "resetting  0\n"
          ]
        },
        {
          "output_type": "stream",
          "name": "stderr",
          "text": [
            "\r 84%|████████▍ | 48/57 [05:46<01:26,  9.58s/it]"
          ]
        },
        {
          "output_type": "stream",
          "name": "stdout",
          "text": [
            "resetting  0\n"
          ]
        },
        {
          "output_type": "stream",
          "name": "stderr",
          "text": [
            "\r 86%|████████▌ | 49/57 [05:56<01:17,  9.64s/it]"
          ]
        },
        {
          "output_type": "stream",
          "name": "stdout",
          "text": [
            "resetting  0\n"
          ]
        },
        {
          "output_type": "stream",
          "name": "stderr",
          "text": [
            "\r 88%|████████▊ | 50/57 [06:06<01:07,  9.71s/it]"
          ]
        },
        {
          "output_type": "stream",
          "name": "stdout",
          "text": [
            "resetting  0\n"
          ]
        },
        {
          "output_type": "stream",
          "name": "stderr",
          "text": [
            "\r 89%|████████▉ | 51/57 [06:16<00:58,  9.78s/it]"
          ]
        },
        {
          "output_type": "stream",
          "name": "stdout",
          "text": [
            "resetting  0\n"
          ]
        },
        {
          "output_type": "stream",
          "name": "stderr",
          "text": [
            "\r 91%|█████████ | 52/57 [06:26<00:49,  9.87s/it]"
          ]
        },
        {
          "output_type": "stream",
          "name": "stdout",
          "text": [
            "resetting  0\n"
          ]
        },
        {
          "output_type": "stream",
          "name": "stderr",
          "text": [
            "\r 93%|█████████▎| 53/57 [06:36<00:39,  9.97s/it]"
          ]
        },
        {
          "output_type": "stream",
          "name": "stdout",
          "text": [
            "resetting  0\n"
          ]
        },
        {
          "output_type": "stream",
          "name": "stderr",
          "text": [
            "\r 95%|█████████▍| 54/57 [06:46<00:30, 10.07s/it]"
          ]
        },
        {
          "output_type": "stream",
          "name": "stdout",
          "text": [
            "resetting  0\n"
          ]
        },
        {
          "output_type": "stream",
          "name": "stderr",
          "text": [
            "\r 96%|█████████▋| 55/57 [06:57<00:20, 10.20s/it]"
          ]
        },
        {
          "output_type": "stream",
          "name": "stdout",
          "text": [
            "resetting  0\n"
          ]
        },
        {
          "output_type": "stream",
          "name": "stderr",
          "text": [
            "\r 98%|█████████▊| 56/57 [07:07<00:10, 10.32s/it]"
          ]
        },
        {
          "output_type": "stream",
          "name": "stdout",
          "text": [
            "resetting  0\n"
          ]
        },
        {
          "output_type": "stream",
          "name": "stderr",
          "text": [
            "100%|██████████| 57/57 [07:18<00:00,  7.69s/it]\n"
          ]
        },
        {
          "output_type": "execute_result",
          "data": {
            "text/plain": [
              "Text(0.5, 0, 'k')"
            ]
          },
          "metadata": {},
          "execution_count": 49
        },
        {
          "output_type": "display_data",
          "data": {
            "text/plain": [
              "<Figure size 432x288 with 1 Axes>"
            ],
            "image/png": "[encoded data removed]"
          },
          "metadata": {
            "needs_background": "light"
          }
        }
      ],
      "source": [
        "# Your beautiful code here\n",
        "from tqdm import tqdm, trange\n",
        "\n",
        "i_res_test = []\n",
        "i_res_train = []\n",
        "auc_res_test = []\n",
        "auc_res_train = []\n",
        "\n",
        "for i in trange(50, k_max, 100):\n",
        "    bow = BoW(i)\n",
        "    bow.fit(texts_train)\n",
        "\n",
        "    X_train_bow = bow.transform(texts_train)\n",
        "    X_test_bow = bow.transform(texts_test)\n",
        "\n",
        "    features = X_train_bow.shape[1]\n",
        "    classes = 2\n",
        "    \n",
        "    model = nn.Sequential(\n",
        "        nn.Linear(features, classes)\n",
        "        )\n",
        "\n",
        "    model.to(device)\n",
        "\n",
        "    loss_function = nn.CrossEntropyLoss()\n",
        "\n",
        "    opt = torch.optim.Adam(model.parameters(), lr=1e-3) \n",
        "\n",
        "    X_train_bow_torch = torch.from_numpy(X_train_bow).to(device)\n",
        "    X_test_bow_torch = torch.from_numpy(X_test_bow).to(device)\n",
        "\n",
        "    y_train_torch = torch.from_numpy(y_train).to(device)\n",
        "    y_test_torch = torch.from_numpy(y_test).to(device)\n",
        "\n",
        "    lr_scheduler=torch.optim.lr_scheduler.ExponentialLR(opt, gamma=0.9)\n",
        "    train_model(model, opt, lr_scheduler, X_train_bow_torch, y_train_torch, X_test_bow_torch, y_test_torch, loss_func=loss_func, show_plots=False)\n",
        "\n",
        "    proba = model(X_test_bow_torch).detach().cpu().numpy()[:, 1]\n",
        "    auc = roc_auc_score(y_test, proba)\n",
        "\n",
        "    i_res_test.append(i)\n",
        "    auc_res_test.append(auc)\n",
        "\n",
        "    proba = model(X_train_bow_torch).detach().cpu().numpy()[:, 1]\n",
        "    auc = roc_auc_score(y_train, proba)\n",
        "\n",
        "    i_res_train.append(i)\n",
        "    auc_res_train.append(auc)\n",
        "        \n",
        "plt.plot(i_res_test, auc_res_test, label = 'Test')\n",
        "plt.plot(i_res_train, auc_res_train, label = 'Train')\n",
        "plt.title('ROC_AUC for k')\n",
        "plt.ylabel('roc_auc')\n",
        "plt.xlabel('k')"
      ]
    },
    {
      "cell_type": "markdown",
      "source": [
        "**Conclusion:**\n",
        "\n",
        "\n",
        "---\n",
        "\n",
        "\n",
        "***As the k (number of tokens) used increases, the result improves.***\n",
        "\n",
        "\n",
        "---\n",
        "\n"
      ],
      "metadata": {
        "id": "W7YJkDAICi71"
      }
    },
    {
      "cell_type": "markdown",
      "metadata": {
        "id": "PhV0f-P0GXi-"
      },
      "source": [
        "### Step 2: implement TF-IDF features\n",
        "\n",
        "Not all words are equally useful. One can prioritize rare words and downscale words like \"and\"/\"or\" by using __tf-idf features__. This abbreviation stands for __text frequency/inverse document frequence__ and means exactly that:\n",
        "\n",
        "$$ feature_i = { Count(word_i \\in x) \\times { log {N \\over Count(word_i \\in D) + \\alpha} }}, $$\n",
        "\n",
        "\n",
        "where x is a single text, D is your dataset (a collection of texts), N is a total number of documents and $\\alpha$ is a smoothing hyperparameter (typically 1). \n",
        "And $Count(word_i \\in D)$ is the number of documents where $word_i$ appears.\n",
        "\n",
        "It may also be a good idea to normalize each data sample after computing tf-idf features.\n",
        "\n",
        "__Your task:__ implement tf-idf features, train a model and evaluate ROC curve. Compare it with basic BagOfWords model from above.\n",
        "\n",
        "__Please don't use sklearn/nltk builtin tf-idf vectorizers in your solution :)__ You can still use 'em for debugging though."
      ]
    },
    {
      "cell_type": "markdown",
      "metadata": {
        "id": "dKl9e9ngGXi_"
      },
      "source": [
        "Blog post about implementing the TF-IDF features from scratch: https://triton.ml/blog/tf-idf-from-scratch"
      ]
    },
    {
      "cell_type": "code",
      "execution_count": 17,
      "metadata": {
        "id": "k1XVew51GXi_",
        "colab": {
          "base_uri": "https://localhost:8080/"
        },
        "outputId": "4c9da570-6556-43af-dd27-3e26ea13fedb"
      },
      "outputs": [
        {
          "output_type": "execute_result",
          "data": {
            "text/plain": [
              "<features.TfIdf at 0x7fe974833690>"
            ]
          },
          "metadata": {},
          "execution_count": 17
        }
      ],
      "source": [
        "from features import TfIdf\n",
        "\n",
        "# Your beautiful code here\n",
        "\n",
        "tf_idf = TfIdf(k, normalize = True)\n",
        "tf_idf.fit(texts_train)"
      ]
    },
    {
      "cell_type": "code",
      "source": [
        "X_train_tf_idf = tf_idf.transform(texts_train)\n",
        "X_test_tf_idf = tf_idf.transform(texts_test)"
      ],
      "metadata": {
        "id": "Hbd5HnC2GCBH"
      },
      "execution_count": 18,
      "outputs": []
    },
    {
      "cell_type": "markdown",
      "metadata": {
        "id": "08kdRTodGXi_"
      },
      "source": [
        "Same stuff about moel and optimizers here (or just omit it, if you are using the same model as before)."
      ]
    },
    {
      "cell_type": "code",
      "source": [
        "tf_model = LogisticRegression().fit(X_train_tf_idf, y_train)"
      ],
      "metadata": {
        "id": "CarM-KWUwksH"
      },
      "execution_count": 19,
      "outputs": []
    },
    {
      "cell_type": "code",
      "source": [
        "plot_sklearn_roc_auc_score(X_train_tf_idf, y_train, X_test_tf_idf, y_test, tf_model)"
      ],
      "metadata": {
        "colab": {
          "base_uri": "https://localhost:8080/",
          "height": 265
        },
        "id": "_PvHJpK4wsZn",
        "outputId": "a65537d7-cc56-4613-b4bf-fe64a4cb28a3"
      },
      "execution_count": 20,
      "outputs": [
        {
          "output_type": "display_data",
          "data": {
            "text/plain": [
              "<Figure size 432x288 with 1 Axes>"
            ],
            "image/png": "[encoded data removed]"
          },
          "metadata": {
            "needs_background": "light"
          }
        }
      ]
    },
    {
      "cell_type": "code",
      "execution_count": 28,
      "metadata": {
        "id": "NppNIIdZGXi_"
      },
      "outputs": [],
      "source": [
        "### YOUR CODE HERE\n",
        "X_train_tfidf_torch = torch.from_numpy(X_train_tf_idf).to(device) \n",
        "X_test_tfidf_torch = torch.from_numpy(X_test_tf_idf).to(device)\n",
        "\n",
        "y_train_torch = torch.from_numpy(y_train).to(device)\n",
        "y_test_torch = torch.from_numpy(y_test).to(device)"
      ]
    },
    {
      "cell_type": "code",
      "source": [
        "X_train_tfidf_torch.shape"
      ],
      "metadata": {
        "colab": {
          "base_uri": "https://localhost:8080/"
        },
        "id": "WQqeHwm-vRkX",
        "outputId": "544dc98e-6a18-4308-9213-5898f3d96eb4"
      },
      "execution_count": 29,
      "outputs": [
        {
          "output_type": "execute_result",
          "data": {
            "text/plain": [
              "torch.Size([500, 5707])"
            ]
          },
          "metadata": {},
          "execution_count": 29
        }
      ]
    },
    {
      "cell_type": "code",
      "source": [
        "features = min(k, k_max)\n",
        "classes = 2\n",
        "model_tfidf = nn.Sequential(  \n",
        "  nn.Linear(features, classes)\n",
        "  # nn.ReLU(),\n",
        "  # nn.Linear(1024, classes)  \n",
        ")\n",
        "\n",
        "model_tfidf.to(device)"
      ],
      "metadata": {
        "colab": {
          "base_uri": "https://localhost:8080/"
        },
        "id": "057X7Z4XHhYG",
        "outputId": "064e4abd-fac5-4b4b-cffa-40722075fc20"
      },
      "execution_count": 30,
      "outputs": [
        {
          "output_type": "execute_result",
          "data": {
            "text/plain": [
              "Sequential(\n",
              "  (0): Linear(in_features=5707, out_features=2, bias=True)\n",
              ")"
            ]
          },
          "metadata": {},
          "execution_count": 30
        }
      ]
    },
    {
      "cell_type": "markdown",
      "metadata": {
        "id": "kjpgIjp1GXi_"
      },
      "source": [
        "Fit your model to the data. No not hesitate to vary number of iterations, learning rate and so on.\n",
        "\n",
        "_Note: due to very small dataset, increasing the complexity of the network might not be the best idea._"
      ]
    },
    {
      "cell_type": "code",
      "source": [
        "loss_func1 = nn.CrossEntropyLoss()\n",
        "opt1 = torch.optim.Adam(model_tfidf.parameters(), lr=1e-3) \n",
        "\n",
        "lr_scheduler=torch.optim.lr_scheduler.ExponentialLR(opt1, gamma=0.9)\n",
        "train_model(model_tfidf, opt1, lr_scheduler, X_train_tfidf_torch, y_train_torch, X_test_tfidf_torch, y_test_torch, loss_func=loss_func1, n_iterations=1000)"
      ],
      "metadata": {
        "colab": {
          "base_uri": "https://localhost:8080/",
          "height": 388
        },
        "id": "Uj2fS1aRHtKX",
        "outputId": "a21655de-a730-45cb-9da2-e7da7c9a819e"
      },
      "execution_count": 33,
      "outputs": [
        {
          "output_type": "display_data",
          "data": {
            "text/plain": [
              "<Figure size 1080x360 with 2 Axes>"
            ],
            "image/png": "[encoded data removed]"
          },
          "metadata": {
            "needs_background": "light"
          }
        },
        {
          "output_type": "execute_result",
          "data": {
            "text/plain": [
              "Sequential(\n",
              "  (0): Linear(in_features=5707, out_features=2, bias=True)\n",
              ")"
            ]
          },
          "metadata": {},
          "execution_count": 33
        }
      ]
    },
    {
      "cell_type": "code",
      "source": [
        "for name, X, y, model in [\n",
        "    ('train', X_train_tfidf_torch, y_train, model_tfidf),\n",
        "    ('test ', X_test_tfidf_torch, y_test, model_tfidf)\n",
        "]:\n",
        "    proba = model(X).detach().cpu().numpy()[:, 1]\n",
        "    auc = roc_auc_score(y, proba)\n",
        "    plt.plot(*roc_curve(y, proba)[:2], label='%s AUC=%.4f' % (name, auc))\n",
        "\n",
        "plt.plot([0, 1], [0, 1], '--', color='black',)\n",
        "plt.legend(fontsize='large')\n",
        "plt.grid()"
      ],
      "metadata": {
        "colab": {
          "base_uri": "https://localhost:8080/",
          "height": 265
        },
        "id": "McpI_XIeyf9f",
        "outputId": "01ca3e55-f09c-429a-d9b6-79d988f2135f"
      },
      "execution_count": 34,
      "outputs": [
        {
          "output_type": "display_data",
          "data": {
            "text/plain": [
              "<Figure size 432x288 with 1 Axes>"
            ],
            "image/png": "[encoded data removed]"
          },
          "metadata": {
            "needs_background": "light"
          }
        }
      ]
    },
    {
      "cell_type": "markdown",
      "metadata": {
        "id": "Qjm7-l3eGXi_"
      },
      "source": [
        "### Step 3: Comparing it with Naive Bayes\n",
        "\n",
        "Naive Bayes classifier is a good choice for such small problems. Try to tune it for both BOW and TF-iDF features. Compare the results with Logistic Regression."
      ]
    },
    {
      "cell_type": "code",
      "execution_count": 39,
      "metadata": {
        "id": "1f2-LsOUGXi_"
      },
      "outputs": [],
      "source": [
        "# Your beautiful code here\n",
        "from sklearn.naive_bayes import GaussianNB, MultinomialNB, CategoricalNB, ComplementNB\n",
        "\n",
        "gnb_bow = MultinomialNB().fit(X_train_bow, y_train)"
      ]
    },
    {
      "cell_type": "code",
      "source": [
        "plot_sklearn_roc_auc_score(X_train_bow, y_train, X_test_bow, y_test, gnb_bow)"
      ],
      "metadata": {
        "colab": {
          "base_uri": "https://localhost:8080/",
          "height": 265
        },
        "id": "_AQO0BYlC6-9",
        "outputId": "73ee8e46-597c-420d-ccb4-e9273d6c6421"
      },
      "execution_count": 40,
      "outputs": [
        {
          "output_type": "display_data",
          "data": {
            "text/plain": [
              "<Figure size 432x288 with 1 Axes>"
            ],
            "image/png": "[encoded data removed]"
          },
          "metadata": {
            "needs_background": "light"
          }
        }
      ]
    },
    {
      "cell_type": "code",
      "source": [
        "gnb_tfidf = MultinomialNB().fit(X_train_tf_idf, y_train)"
      ],
      "metadata": {
        "id": "0pyZMVfODEdd"
      },
      "execution_count": 41,
      "outputs": []
    },
    {
      "cell_type": "code",
      "source": [
        "plot_sklearn_roc_auc_score(X_train_tf_idf, y_train, X_test_tf_idf, y_test, gnb_tfidf)"
      ],
      "metadata": {
        "colab": {
          "base_uri": "https://localhost:8080/",
          "height": 265
        },
        "id": "l152isq9FKfl",
        "outputId": "79833b0f-5fb5-4e19-ae0e-33dc62c97a8a"
      },
      "execution_count": 42,
      "outputs": [
        {
          "output_type": "display_data",
          "data": {
            "text/plain": [
              "<Figure size 432x288 with 1 Axes>"
            ],
            "image/png": "[encoded data removed]"
          },
          "metadata": {
            "needs_background": "light"
          }
        }
      ]
    },
    {
      "cell_type": "markdown",
      "metadata": {
        "id": "IxgveMsjGXi_"
      },
      "source": [
        "Shape some thoughts on the results you aquired. Which model has show the best performance? Did changing the learning rate/lr scheduler help?"
      ]
    },
    {
      "cell_type": "markdown",
      "metadata": {
        "id": "8wcFKwADGXi_"
      },
      "source": [
        "**MY CONLUSION:**\n",
        "\n",
        "\n",
        "\n",
        "---\n",
        "\n",
        "**As the graphs show, the result of Tf-Idf better then BoW.**\n",
        "\n",
        "LogisticRegression - 0.8545 (BoW) | **0.8707 (TF-IDF)**\n",
        "\n",
        "Naive Bayes(test) - 0.8366 (BoW) | **0.8768 (TF-IDF)**\n",
        "\n",
        "---\n",
        "\n"
      ]
    },
    {
      "cell_type": "markdown",
      "metadata": {
        "id": "TFQUw4NvGXi_"
      },
      "source": [
        "### Step 4: Using the external knowledge.\n",
        "\n",
        "Use the `gensim` word2vec pretrained model to translate words into vectors. Use several models with this new encoding technique. Compare the results, share your thoughts.\n",
        "\n",
        "**MY CONLUSION:**\n",
        "\n",
        "\n",
        "\n",
        "---\n",
        "\n",
        "\n",
        "We have too small a dataset - it is very difficult to achieve a good result on it, even when using good embeddings.\n",
        "\n",
        "\n",
        "Models using such big and good embeddings should be able to train a large number of parameters. But it is very difficult with a small dataset.\n",
        "\n",
        "AND! It may not be very well to average embeddings.\n",
        "But at the moment, there are no other thoughts yet.\n",
        "\n",
        "\n",
        "\n",
        "---\n",
        "\n"
      ]
    },
    {
      "cell_type": "code",
      "execution_count": null,
      "metadata": {
        "id": "bOSheW9sGXi_"
      },
      "outputs": [],
      "source": [
        "# Your beautiful code here"
      ]
    },
    {
      "cell_type": "code",
      "source": [
        "from gensim import downloader as api\n",
        "print(list(api.info()['models'].keys()))"
      ],
      "metadata": {
        "colab": {
          "base_uri": "https://localhost:8080/"
        },
        "id": "f1sEpiQOGsc3",
        "outputId": "bebf6a0f-6010-410c-deb8-7ba801450b90"
      },
      "execution_count": 44,
      "outputs": [
        {
          "output_type": "stream",
          "name": "stdout",
          "text": [
            "['fasttext-wiki-news-subwords-300', 'conceptnet-numberbatch-17-06-300', 'word2vec-ruscorpora-300', 'word2vec-google-news-300', 'glove-wiki-gigaword-50', 'glove-wiki-gigaword-100', 'glove-wiki-gigaword-200', 'glove-wiki-gigaword-300', 'glove-twitter-25', 'glove-twitter-50', 'glove-twitter-100', 'glove-twitter-200', '__testing_word2vec-matrix-synopsis']\n"
          ]
        }
      ]
    },
    {
      "cell_type": "code",
      "source": [
        "model = api.load('word2vec-google-news-300')"
      ],
      "metadata": {
        "id": "QYuMM3jLHxUt"
      },
      "execution_count": null,
      "outputs": []
    },
    {
      "cell_type": "code",
      "source": [
        "def get_phrase_embedding(phrase, model):    \n",
        "    # Tokenize phrase, take embedding vectors for each word and return their mean.\n",
        "    words = tokenizer.tokenize(phrase.lower())\n",
        "    word_vectors = np.array([model.get_vector(word) for word in phrase if word in model])\n",
        "    if word_vectors.size == 0:\n",
        "        return np.zeros(model.vector_size)\n",
        "\n",
        "    return word_vectors.mean(axis=0)"
      ],
      "metadata": {
        "id": "L-ws_XkvddzX"
      },
      "execution_count": 47,
      "outputs": []
    },
    {
      "cell_type": "code",
      "source": [
        "texts_train = [get_phrase_embedding(phrase, model)  for phrase in texts_train] \n",
        "texts_test = [get_phrase_embedding(phrase, model)  for phrase in texts_test]\n",
        "\n",
        "X_train_torch = torch.from_numpy(np.array(texts_train)).to(device)\n",
        "X_test_torch = torch.from_numpy(np.array(texts_test)).to(device)\n",
        "\n",
        "y_train_torch = torch.from_numpy(np.array(y_train)).to(device)\n",
        "y_test_torch = torch.from_numpy(np.array(y_test)).to(device)"
      ],
      "metadata": {
        "id": "unGLnVV9mIoh"
      },
      "execution_count": null,
      "outputs": []
    },
    {
      "cell_type": "code",
      "source": [
        "features = X_train_torch.shape[1]\n",
        "classes = 2\n",
        "model_embedings = nn.Sequential(  \n",
        "  nn.Linear(features, 2)\n",
        ")\n",
        "\n",
        "model_embedings.to(device)"
      ],
      "metadata": {
        "colab": {
          "base_uri": "https://localhost:8080/"
        },
        "id": "9x7EXsQ8zoid",
        "outputId": "52685aa7-2449-40ce-fea1-871cf30d9b17"
      },
      "execution_count": null,
      "outputs": [
        {
          "output_type": "execute_result",
          "data": {
            "text/plain": [
              "Sequential(\n",
              "  (0): Linear(in_features=300, out_features=2, bias=True)\n",
              ")"
            ]
          },
          "metadata": {},
          "execution_count": 155
        }
      ]
    },
    {
      "cell_type": "code",
      "source": [
        "loss_function = nn.CrossEntropyLoss()\n",
        "\n",
        "opt = torch.optim.Adam(model_embedings.parameters(), lr=1e-1) \n",
        "\n",
        "lr_scheduler=torch.optim.lr_scheduler.ExponentialLR(opt, gamma=0.7)\n",
        "train_model(model_embedings, opt, lr_scheduler, X_train_torch, y_train_torch, X_test_torch, y_test_torch, , loss_func = loss_function)"
      ],
      "metadata": {
        "colab": {
          "base_uri": "https://localhost:8080/",
          "height": 388
        },
        "id": "utwwhIVg1Ddk",
        "outputId": "58992423-e009-4bf2-fbed-84eaac7b9e98"
      },
      "execution_count": null,
      "outputs": [
        {
          "output_type": "display_data",
          "data": {
            "text/plain": [
              "<Figure size 1080x360 with 2 Axes>"
            ],
            "image/png": "[encoded data removed]"
          },
          "metadata": {
            "needs_background": "light"
          }
        },
        {
          "output_type": "execute_result",
          "data": {
            "text/plain": [
              "Sequential(\n",
              "  (0): Linear(in_features=300, out_features=2, bias=True)\n",
              ")"
            ]
          },
          "metadata": {},
          "execution_count": 156
        }
      ]
    },
    {
      "cell_type": "code",
      "source": [
        "def plot_torch_auc(X_train, y_train, X_test, y_test, current_model):\n",
        "    for name, X, y, model in [\n",
        "        ('train', X_train, y_train, current_model),\n",
        "        ('test ', X_test, y_test, current_model)\n",
        "        ]:\n",
        "        \n",
        "        proba = model(X).detach().cpu().numpy()[:, 1]\n",
        "        auc = roc_auc_score(y.cpu(), proba)\n",
        "        plt.plot(*roc_curve(y.cpu(), proba)[:2], label='%s AUC=%.4f' % (name, auc))\n",
        "        \n",
        "        plt.plot([0, 1], [0, 1], '--', color='black',)\n",
        "        plt.legend(fontsize='large')\n",
        "        plt.grid()\n",
        "\n",
        "plot_torch_auc(X_train_torch, y_train_torch, X_test_torch, y_test_torch, model_embedings)        "
      ],
      "metadata": {
        "colab": {
          "base_uri": "https://localhost:8080/",
          "height": 265
        },
        "id": "aviKKvX61P6F",
        "outputId": "315abf0c-75f1-4ce4-f049-a82eb1fca71d"
      },
      "execution_count": 53,
      "outputs": [
        {
          "output_type": "display_data",
          "data": {
            "text/plain": [
              "<Figure size 432x288 with 1 Axes>"
            ],
            "image/png": "[encoded data removed]"
          },
          "metadata": {
            "needs_background": "light"
          }
        }
      ]
    },
    {
      "cell_type": "code",
      "source": [
        "model = api.load('glove-twitter-200')"
      ],
      "metadata": {
        "colab": {
          "base_uri": "https://localhost:8080/"
        },
        "id": "yba82TN7jZuZ",
        "outputId": "3695c291-02c1-4337-9040-c4139da8c60c"
      },
      "execution_count": null,
      "outputs": [
        {
          "output_type": "stream",
          "name": "stdout",
          "text": [
            "[==================================================] 100.0% 758.5/758.5MB downloaded\n"
          ]
        }
      ]
    },
    {
      "cell_type": "code",
      "source": [
        "def get_phrase_embedding(phrase, model):    \n",
        "    # Tokenize phrase, take embedding vectors for each word and return their mean.\n",
        "    words = tokenizer.tokenize(phrase.lower())\n",
        "    word_vectors = np.array([model.get_vector(word) for word in phrase if word in model])\n",
        "    if word_vectors.size == 0:\n",
        "        return np.zeros(model.vector_size)\n",
        "\n",
        "    return word_vectors.mean(axis=0)"
      ],
      "metadata": {
        "id": "pL7XM5cZkFDZ"
      },
      "execution_count": null,
      "outputs": []
    },
    {
      "cell_type": "code",
      "source": [
        "texts_train = [get_phrase_embedding(phrase, model)  for phrase in texts_train] \n",
        "texts_test = [get_phrase_embedding(phrase, model)  for phrase in texts_test]\n",
        "\n",
        "X_train_torch = torch.from_numpy(np.array(texts_train)).to(device)\n",
        "X_test_torch = torch.from_numpy(np.array(texts_test)).to(device)\n",
        "\n",
        "y_train_torch = torch.from_numpy(np.array(y_train)).to(device)\n",
        "y_test_torch = torch.from_numpy(np.array(y_test)).to(device)"
      ],
      "metadata": {
        "id": "W8BdJVjlpAFo"
      },
      "execution_count": null,
      "outputs": []
    },
    {
      "cell_type": "code",
      "source": [
        "from torch.nn.modules.activation import ReLU\n",
        "\n",
        "features = X_train_torch.shape[1]\n",
        "classes = 2\n",
        "model_embedings = nn.Sequential(  \n",
        "  nn.Linear(features, 2)\n",
        ")\n",
        "\n",
        "model_embedings.to(device)"
      ],
      "metadata": {
        "colab": {
          "base_uri": "https://localhost:8080/"
        },
        "id": "_aahFmEWpLHQ",
        "outputId": "21e64966-6879-40b0-a669-bb59ce5abe1f"
      },
      "execution_count": null,
      "outputs": [
        {
          "output_type": "execute_result",
          "data": {
            "text/plain": [
              "Sequential(\n",
              "  (0): Linear(in_features=200, out_features=2, bias=True)\n",
              ")"
            ]
          },
          "metadata": {},
          "execution_count": 181
        }
      ]
    },
    {
      "cell_type": "code",
      "source": [
        "loss_function = nn.CrossEntropyLoss()\n",
        "\n",
        "opt = torch.optim.Adam(model_embedings.parameters(), lr=1e-1) \n",
        "\n",
        "lr_scheduler=torch.optim.lr_scheduler.ExponentialLR(opt, gamma=0.9)\n",
        "train_model(model_embedings, opt, lr_scheduler, X_train_torch, y_train_torch, X_test_torch, y_test_torch, loss_func = loss_function)"
      ],
      "metadata": {
        "colab": {
          "base_uri": "https://localhost:8080/",
          "height": 388
        },
        "id": "zWGPfXSApU-g",
        "outputId": "22b27b99-df15-45fc-b269-7f27efe96bef"
      },
      "execution_count": null,
      "outputs": [
        {
          "output_type": "display_data",
          "data": {
            "text/plain": [
              "<Figure size 1080x360 with 2 Axes>"
            ],
            "image/png": "[encoded data removed]"
          },
          "metadata": {
            "needs_background": "light"
          }
        },
        {
          "output_type": "execute_result",
          "data": {
            "text/plain": [
              "Sequential(\n",
              "  (0): Linear(in_features=200, out_features=2, bias=True)\n",
              ")"
            ]
          },
          "metadata": {},
          "execution_count": 182
        }
      ]
    },
    {
      "cell_type": "code",
      "source": [
        "plot_torch_auc(X_train_torch, y_train_torch, X_test_torch, y_test_torch, model_embedings)"
      ],
      "metadata": {
        "colab": {
          "base_uri": "https://localhost:8080/",
          "height": 265
        },
        "id": "3Qra7yjtpXJa",
        "outputId": "06aaf6b3-6713-4878-89a3-df6d2584b430"
      },
      "execution_count": null,
      "outputs": [
        {
          "output_type": "display_data",
          "data": {
            "text/plain": [
              "<Figure size 432x288 with 1 Axes>"
            ],
            "image/png": "[encoded data removed]"
          },
          "metadata": {
            "needs_background": "light"
          }
        }
      ]
    },
    {
      "cell_type": "code",
      "source": [
        "model = api.load('glove-twitter-50')"
      ],
      "metadata": {
        "id": "975Azd2vtpag",
        "colab": {
          "base_uri": "https://localhost:8080/"
        },
        "outputId": "13d481c3-933c-4909-dd82-6b4616acba66"
      },
      "execution_count": 45,
      "outputs": [
        {
          "output_type": "stream",
          "name": "stdout",
          "text": [
            "[==================================================] 100.0% 199.5/199.5MB downloaded\n"
          ]
        }
      ]
    },
    {
      "cell_type": "code",
      "source": [
        "texts_train = [get_phrase_embedding(phrase, model)  for phrase in texts_train] \n",
        "texts_test = [get_phrase_embedding(phrase, model)  for phrase in texts_test]\n",
        "\n",
        "X_train_torch = torch.from_numpy(np.array(texts_train)).to(device)\n",
        "X_test_torch = torch.from_numpy(np.array(texts_test)).to(device)\n",
        "\n",
        "y_train_torch = torch.from_numpy(np.array(y_train)).to(device)\n",
        "y_test_torch = torch.from_numpy(np.array(y_test)).to(device)"
      ],
      "metadata": {
        "id": "8LQLGax6tvaQ"
      },
      "execution_count": 48,
      "outputs": []
    },
    {
      "cell_type": "code",
      "source": [
        "features = X_train_torch.shape[1]\n",
        "classes = 2\n",
        "model_embedings = nn.Sequential(  \n",
        "  nn.Linear(features, 2)\n",
        ")\n",
        "\n",
        "model_embedings.to(device)"
      ],
      "metadata": {
        "colab": {
          "base_uri": "https://localhost:8080/"
        },
        "id": "0fF6CfB3t0fA",
        "outputId": "77ececa9-c069-4c79-fca0-e2a41412b21c"
      },
      "execution_count": 49,
      "outputs": [
        {
          "output_type": "execute_result",
          "data": {
            "text/plain": [
              "Sequential(\n",
              "  (0): Linear(in_features=50, out_features=2, bias=True)\n",
              ")"
            ]
          },
          "metadata": {},
          "execution_count": 49
        }
      ]
    },
    {
      "cell_type": "code",
      "source": [
        "loss_function = nn.CrossEntropyLoss()\n",
        "\n",
        "opt = torch.optim.Adam(model_embedings.parameters(), lr=1e-1) \n",
        "\n",
        "lr_scheduler=torch.optim.lr_scheduler.ExponentialLR(opt, gamma=0.9)\n",
        "train_model(model_embedings, opt, lr_scheduler, X_train_torch, y_train_torch, X_test_torch, y_test_torch, loss_func = loss_function)"
      ],
      "metadata": {
        "colab": {
          "base_uri": "https://localhost:8080/",
          "height": 388
        },
        "id": "Sdol6MgQt4ZQ",
        "outputId": "398ce2d8-fefb-4060-a36c-26ce7e5a5680"
      },
      "execution_count": 51,
      "outputs": [
        {
          "output_type": "display_data",
          "data": {
            "text/plain": [
              "<Figure size 1080x360 with 2 Axes>"
            ],
            "image/png": "[encoded data removed]"
          },
          "metadata": {
            "needs_background": "light"
          }
        },
        {
          "output_type": "execute_result",
          "data": {
            "text/plain": [
              "Sequential(\n",
              "  (0): Linear(in_features=50, out_features=2, bias=True)\n",
              ")"
            ]
          },
          "metadata": {},
          "execution_count": 51
        }
      ]
    },
    {
      "cell_type": "code",
      "source": [
        "plot_torch_auc(X_train_torch, y_train_torch, X_test_torch, y_test_torch, model_embedings)"
      ],
      "metadata": {
        "colab": {
          "base_uri": "https://localhost:8080/",
          "height": 265
        },
        "id": "YYa1huHEMj1D",
        "outputId": "11f111ab-6917-4633-bd04-3d80d5c9b5f2"
      },
      "execution_count": 54,
      "outputs": [
        {
          "output_type": "display_data",
          "data": {
            "text/plain": [
              "<Figure size 432x288 with 1 Axes>"
            ],
            "image/png": "[encoded data removed]"
          },
          "metadata": {
            "needs_background": "light"
          }
        }
      ]
    }
  ],
  "metadata": {
    "kernelspec": {
      "display_name": "Python 3 (ipykernel)",
      "language": "python",
      "name": "python3"
    },
    "language_info": {
      "codemirror_mode": {
        "name": "ipython",
        "version": 3
      },
      "file_extension": ".py",
      "mimetype": "text/x-python",
      "name": "python",
      "nbconvert_exporter": "python",
      "pygments_lexer": "ipython3",
      "version": "3.9.7"
    },
    "colab": {
      "provenance": [],
      "collapsed_sections": []
    },
    "gpuClass": "standard",
    "accelerator": "GPU"
  },
  "nbformat": 4,
  "nbformat_minor": 0
}