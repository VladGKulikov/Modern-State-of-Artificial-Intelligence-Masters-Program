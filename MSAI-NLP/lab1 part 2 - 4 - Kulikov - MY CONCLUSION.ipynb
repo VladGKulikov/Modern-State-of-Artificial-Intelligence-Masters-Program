{
  "nbformat": 4,
  "nbformat_minor": 0,
  "metadata": {
    "colab": {
      "provenance": []
    },
    "kernelspec": {
      "name": "python3",
      "display_name": "Python 3"
    },
    "language_info": {
      "name": "python"
    }
  },
  "cells": [
    {
      "cell_type": "markdown",
      "source": [
        "## Lab 1\n",
        "---\n"
      ],
      "metadata": {
        "id": "S2Yzp2p9nWej"
      }
    },
    {
      "cell_type": "markdown",
      "source": [
        "### Part 2: Neural Machine Translation in the wild\n",
        "\n",
        "__Please use at least three different approaches/models and compare them (translation quality/complexity/training and evaluation time).__\n",
        "\n",
        "Write down some summary on your experiments and illustrate it with convergence plots/metrics and your thoughts. Just like you would approach a real problem."
      ],
      "metadata": {
        "id": "BBlbM0oVnI4E"
      }
    },
    {
      "cell_type": "markdown",
      "source": [
        "## MY SUMMARY:\n",
        "\n",
        "---\n",
        "\n",
        "**How can we see -  model with attention works more slowly then original model(in 2 time slowly in the theory - in 2.5 in our case), but it gives us best score even with original tokenaizer.**\n",
        "\n",
        "---\n",
        "##**1. Original model with tokenaizer from facebook:**\n",
        "\n",
        "Epoch: 10 | Time: 1m 53s\n",
        "\n",
        "\t Train Loss: 3.035 | Train PPL:  20.791\n",
        "\t Val. Loss: 4.737 |  Val. PPL: 114.124\n",
        "\n",
        "BLEU: **28.04**\n",
        "---\n",
        "---\n",
        "\n",
        "##**2. Pretrained model: facebook/wmt19-en-ru**\n",
        "(facebook/wmt19-en-ru from https://huggingface.co/facebook/wmt19-en-ru )\n",
        "\n",
        "BLEU: **31.2**\n",
        "---\n",
        "---\n",
        "\n",
        "##**3. Model with attention:**\n",
        "\n",
        "Epoch: 15 | Time: 5m 15s\n",
        "\n",
        " \tTrain Loss: 1.389 | Train PPL:   4.009\n",
        "\t Val. Loss: 4.721 |  Val. PPL: 112.227\n",
        "\n",
        "BLEU: **29.9**\n",
        "---\n",
        "---\n",
        "\n",
        "\n",
        "Baseline solution BLEU score is quite low. Try to achieve at least __24__ BLEU on the test set. \n",
        "The checkpoints are:\n",
        "\n",
        "* __22__ - minimal score to submit the homework, 30% of points\n",
        "\n",
        "* __27__ - good score, 70% of points\n",
        "\n",
        "* __29__ - excellent score, 100% of points"
      ],
      "metadata": {
        "id": "X7d3tXl5n1xi"
      }
    }
  ]
}