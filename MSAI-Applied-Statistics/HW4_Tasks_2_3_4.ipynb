{
  "nbformat": 4,
  "nbformat_minor": 0,
  "metadata": {
    "colab": {
      "name": "HW4 - Tasks_2_3_4.ipynb",
      "provenance": [],
      "collapsed_sections": [],
      "include_colab_link": true
    },
    "kernelspec": {
      "name": "python3",
      "display_name": "Python 3"
    },
    "language_info": {
      "name": "python"
    }
  },
  "cells": [
    {
      "cell_type": "markdown",
      "metadata": {
        "id": "view-in-github",
        "colab_type": "text"
      },
      "source": [
        "<a href=\"https://colab.research.google.com/github/VladGKulikov/Applied-Statistics-MSAI-2022/blob/main/HW4_Tasks_2_3_4.ipynb\" target=\"_parent\"><img src=\"https://colab.research.google.com/assets/colab-badge.svg\" alt=\"Open In Colab\"/></a>"
      ]
    },
    {
      "cell_type": "code",
      "source": [
        "import numpy as np\n",
        "import scipy.stats as stats"
      ],
      "metadata": {
        "id": "ixpLOTESSbbz"
      },
      "execution_count": null,
      "outputs": []
    },
    {
      "cell_type": "markdown",
      "source": [
        "# Problem 2"
      ],
      "metadata": {
        "id": "LXCly5-6ESTp"
      }
    },
    {
      "cell_type": "code",
      "execution_count": null,
      "metadata": {
        "colab": {
          "base_uri": "https://localhost:8080/"
        },
        "id": "x7Hmj8-tRLnq",
        "outputId": "87188a28-6633-46ba-a8a0-fbb8604f23c3"
      },
      "outputs": [
        {
          "output_type": "stream",
          "name": "stdout",
          "text": [
            "Observed: [74, 92, 83, 79, 80, 73, 77, 75, 76, 91]\n",
            "Total count = 800\n",
            "Pobability_on_one_interval = 0.1\n",
            "Expected_on_one_interval = 80.0\n",
            "Observed minus expected in power 2: [36.0, 144.0, 9.0, 1.0, 0.0, 49.0, 9.0, 25.0, 16.0, 121.0]\n",
            "Chisquare_observed = 5.125\n",
            "From table for chisquare with degree of fredom n-1 and alpha = 0.05: 16.92\n",
            "\n",
            "We fail to reject H0 because chisquare_observed = 5.125 < chisquare__critical = 16.92\n",
            "\n",
            "We can verify this:\n",
            "Cheсking: stats.chisquare(X) = Power_divergenceResult(statistic=5.125, pvalue=0.8232783432788753)\n",
            "p_value > 0.1 - little or no evidence against H0\n"
          ]
        }
      ],
      "source": [
        "# On hand\n",
        "I = [0, 1, 2, 3, 4, 5, 6, 7, 8, 9] # Intervals\n",
        "X = [74, 92, 83, 79, 80, 73, 77, 75, 76, 91] # Counts - observed\n",
        "print(f'Observed: {X}')\n",
        "total_count = sum(X) # Total count\n",
        "print(f'Total count = {total_count}')\n",
        "probability_on_one_interval = 1/len(I)\n",
        "print(f'Pobability_on_one_interval = {probability_on_one_interval:.3}')\n",
        "expexted_on_one_interval = total_count * probability_on_one_interval\n",
        "print(f'Expected_on_one_interval = {expexted_on_one_interval}')\n",
        "observ_minus_expected_pow_2 = [ (i-expexted_on_one_interval)**2 for i in X]\n",
        "print(f'Observed minus expected in power 2: {observ_minus_expected_pow_2}')\n",
        "chisquare_observed = sum(observ_minus_expected_pow_2) / expexted_on_one_interval\n",
        "print(f'Chisquare_observed = {chisquare_observed}')\n",
        "chisquare__critical = 16.92 # from table for chisquare with degree of fredom n-1 and alpha = 0.05\n",
        "print(f'From table for chisquare with degree of fredom n-1 and alpha = 0.05: {chisquare__critical}')\n",
        "print(f'\\nWe fail to reject H0 because chisquare_observed = {chisquare_observed} < chisquare__critical = {chisquare__critical}')\n",
        "\n",
        "# We can verify this:\n",
        "print(f'\\nWe can verify this:\\nCheсking: stats.chisquare(X) = {stats.chisquare(X)}')\n",
        "print(f'p_value > 0.1 - little or no evidence against H0')"
      ]
    },
    {
      "cell_type": "markdown",
      "source": [
        "# Problem 3"
      ],
      "metadata": {
        "id": "J9gubN1YEPgJ"
      }
    },
    {
      "cell_type": "code",
      "source": [
        "I = [0, 1, 2, 3, 4, 5, 6, 7, 8, 9] # Intervals\n",
        "Y1 = [-1.75, -0.33, -1.26, 0.32, 1.53, 0.35, -0.96, -0.06, 0.42, -1.08]\n",
        "print(f'Y1 = {Y1}')\n",
        "Y2 = [-0.29, 0.09, 1.70, -1.09, -0.44, -0.29, 0.25, -0.54, -1.38, 0.32]\n",
        "print(f'Y2 = {Y2}')\n",
        "n =len(I)\n",
        "\n",
        "s1=np.std(Y1, ddof=1)\n",
        "print(f's1={s1:.3}')\n",
        "s2=np.std(Y2, ddof=1)\n",
        "print(f's2={s2:.3}')\n",
        "T = (np.mean(Y1)-np.mean(Y2) ) / np.sqrt(s1**2/n+s2**2/n)\n",
        "print(f'T={T:.3}')\n",
        "\n",
        "# If equal variances are assumed, then ν = N1 + N2 - 2\n",
        "v=n+n-2\n",
        "print(f'v={v}')\n",
        "# from table t-ditribution and for t(1-α/2),ν  where  confidence level α = 0.05 v = 18\n",
        "t_critical = 2.101\n",
        "# Reject the null hypothesis that the two means are equal if\n",
        "# |T| > t1-α/2,ν\n",
        "print(f'\\nFrom table t-ditribution and for t(1-α/2),ν  where α = 0.05 v = 18 we have t_critical = {t_critical}')\n",
        "print(f'\\n=> We fail to reject H0 because |T| = {np.abs(T):.3} < t_critical = {t_critical}')\n",
        "\n",
        "# We can verify this:\n",
        "print(f'\\nWe can verify this:\\nCheсking: stats.ttest_ind(Y1, Y2) = {stats.ttest_ind(Y1, Y2)}')\n",
        "print(f'p_value > 0.1 - little or no evidence against H0')"
      ],
      "metadata": {
        "colab": {
          "base_uri": "https://localhost:8080/"
        },
        "id": "stPZQuGE8fOp",
        "outputId": "74ac6cf5-4939-4060-f6bd-89a38e6f4234"
      },
      "execution_count": null,
      "outputs": [
        {
          "output_type": "stream",
          "name": "stdout",
          "text": [
            "Y1 = [-1.75, -0.33, -1.26, 0.32, 1.53, 0.35, -0.96, -0.06, 0.42, -1.08]\n",
            "Y2 = [-0.29, 0.09, 1.7, -1.09, -0.44, -0.29, 0.25, -0.54, -1.38, 0.32]\n",
            "s1=0.989\n",
            "s2=0.852\n",
            "T=-0.279\n",
            "v=18\n",
            "\n",
            "From table t-ditribution and for t(1-α/2),ν  where α = 0.05 v = 18 we have t_critical = 2.101\n",
            "\n",
            "=> We fail to reject H0 because |T| = 0.279 < t_critical = 2.101\n",
            "\n",
            "We can verify this:\n",
            "Cheсking: stats.ttest_ind(Y1, Y2) = Ttest_indResult(statistic=-0.27866501008526884, pvalue=0.7836780729572262)\n",
            "p_value > 0.1 - little or no evidence against H0\n"
          ]
        }
      ]
    },
    {
      "cell_type": "markdown",
      "source": [
        "# Problem 4\n",
        "\n",
        "https://ncss-wpengine.netdna-ssl.com/wp-content/themes/ncss/pdf/Procedures/PASS/Wilcoxon_Signed-Rank_Tests.pdf"
      ],
      "metadata": {
        "id": "fP-Dgct2ShY8"
      }
    },
    {
      "cell_type": "code",
      "source": [
        "X = [176, 163, 152, 155, 156, 178, 160, 164, 169, 155, 122, 144]\n",
        "Y = [168, 215, 172, 200, 191, 197, 183, 174, 176, 155, 115, 163]\n",
        "difference = [(i-j) for i,j in zip(X, Y)]\n",
        "print(f'difference = {difference}')\n",
        "diff_abs = [abs(i-j) for i,j in zip(X, Y)]\n",
        "print(f'diff abs value = {diff_abs}')\n",
        "#      [8, -52, -20, -45, -35, -19, -23, -10,  -7, 0,   7, -19]\n",
        "#      [8,  52,  20,  45,  35,  19,  23,  10,   7, 0,   7,  19]\n",
        "# rank [2,   8,   4,   7,   6, 3.5,   5,   3, 1.5, 0, 1.5, 3.5]\n",
        "rank = [2,   8,   4,   7,   6, 3.5,   5,   3, 1.5, 0, 1.5, 3.5]\n",
        "print(f'rank = {rank}')\n",
        "w_plus = 1.5 + 2 + 1\n",
        "print(f'w_plus={w_plus}')\n",
        "w_minus = 8 + 4 + 7 + 6 + 2 * 3.5 + 5 + 3 + 1.5\n",
        "print(f'w_minus={w_minus}')\n",
        "W = min(w_plus, w_minus)\n",
        "print(f'Test statistics W = {W}')\n",
        "\n",
        "n = len(X)\n",
        "\n",
        "# Expected value of W\n",
        "EW = n * (n + 1) / 4\n",
        "print(f'Expected value of W = {EW}')\n",
        "\n",
        "# Standart deviation of W:\n",
        "# where ti represents the number of times the ith value occurs.\n",
        "t = np.array([1, 2, 1, 1, 2, 1, 1, 1, 1, 1])\n",
        "first_term = n *(n + 1) * (2 * n + 1)/24\n",
        "second_term = (np.sum(t**3) - np.sum(t))/48\n",
        "sigma_W = np.sqrt(first_term - second_term)\n",
        "print(f'Standart deviation of W = {sigma_W:.2}')\n",
        "\n",
        "# Z for Normal distribution\n",
        "Z_value = (W - EW) /sigma_W\n",
        "print(f'Z_value={Z_value:.2}')\n",
        "\n",
        "# From table Normal distribution with Z = -2.79 and α = 0.05 n = 12 we have p_value = 0.0112\n",
        "print(f'\\nFrom table Normal distribution with Z = {Z_value:.2} and α = 0.05 we have p_value = 0.0112')\n",
        "print(f'And we known that if p_value have value between 0.01 and 0.05 then it is strong evidence against H0\\n')\n",
        "print(f'=> We reject H0.')\n",
        "\n",
        "# We can verify this:\n",
        "print(f'\\nWe can verify this:\\nCheсking: stats.wilcoxon(X, Y) = {stats.wilcoxon(X, Y)}')"
      ],
      "metadata": {
        "colab": {
          "base_uri": "https://localhost:8080/"
        },
        "id": "YjtnIE9MShEU",
        "outputId": "4cd6a0af-4631-4937-f0d9-e92192588f2d"
      },
      "execution_count": null,
      "outputs": [
        {
          "output_type": "stream",
          "name": "stdout",
          "text": [
            "difference = [8, -52, -20, -45, -35, -19, -23, -10, -7, 0, 7, -19]\n",
            "diff abs value = [8, 52, 20, 45, 35, 19, 23, 10, 7, 0, 7, 19]\n",
            "rank = [2, 8, 4, 7, 6, 3.5, 5, 3, 1.5, 0, 1.5, 3.5]\n",
            "w_plus=4.5\n",
            "w_minus=41.5\n",
            "Test statistics W = 4.5\n",
            "Expected value of W = 39.0\n",
            "Standart deviation of W = 1.3e+01\n",
            "Z_value=-2.7\n",
            "\n",
            "From table Normal distribution with Z = -2.7 and α = 0.05 we have p_value = 0.0112\n",
            "And we known that if p_value have value between 0.01 and 0.05 then it is strong evidence against H0\n",
            "\n",
            "=> We reject H0.\n",
            "\n",
            "We can verify this:\n",
            "Cheсking: stats.wilcoxon(X, Y) = WilcoxonResult(statistic=4.5, pvalue=0.011197738894413023)\n"
          ]
        }
      ]
    }
  ]
}